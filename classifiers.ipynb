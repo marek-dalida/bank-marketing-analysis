{
 "cells": [
  {
   "cell_type": "code",
   "execution_count": 1,
   "id": "ruled-advancement",
   "metadata": {},
   "outputs": [],
   "source": [
    "import pandas as pd\n",
    "\n",
    "data = pd.read_csv('bank-additional-full.csv', sep=';')"
   ]
  },
  {
   "cell_type": "code",
   "execution_count": 2,
   "id": "induced-relay",
   "metadata": {},
   "outputs": [],
   "source": [
    "result = data['y']\n",
    "data.drop(['y'] ,axis=1, inplace=True)\n",
    "result = result.map(lambda x: 1 if x == 'yes' else 0)\n",
    "result.value_counts()\n",
    "\n",
    "data['pdays'] = data['pdays'].map(lambda x: 0 if x == 999 else x)\n",
    "\n",
    "pd.options.mode.chained_assignment = None\n",
    "data['age'][1000:2000] = None\n",
    "data['duration'][2000:3000] = None\n",
    "data['pdays'][3000:4000] = None\n",
    "data['previous'][4000:5000] = None\n",
    "data['emp.var.rate'][10000:11000] = None\n",
    "data['cons.price.idx'][20000:21000] = None\n",
    "data['cons.conf.idx'][30000:31000] = None\n",
    "data['euribor3m'][39000:40000] = None\n",
    "data['nr.employed'][40000:41000] = None\n",
    "\n",
    "#mean\n",
    "data['age'][1000:2000] = data['age'].mean()\n",
    "data['duration'][2000:3000] = data['duration'].mean()\n",
    "data['pdays'][3000:4000] = data['pdays'].mean()\n",
    "data['previous'][4000:5000] = data['previous'].mean()\n",
    "data['emp.var.rate'][10000:11000] = data['emp.var.rate'].mean()\n",
    "data['cons.price.idx'][20000:21000] = data['cons.price.idx'].mean()\n",
    "data['cons.conf.idx'][30000:31000] = data['cons.conf.idx'].mean()\n",
    "data['euribor3m'][39000:40000] = data['euribor3m'].mean()\n",
    "data['nr.employed'][40000:41000] = data['nr.employed'].mean()"
   ]
  },
  {
   "cell_type": "code",
   "execution_count": 3,
   "id": "catholic-wheel",
   "metadata": {},
   "outputs": [
    {
     "name": "stdout",
     "output_type": "stream",
     "text": [
      "<class 'pandas.core.frame.DataFrame'>\n",
      "RangeIndex: 41188 entries, 0 to 41187\n",
      "Data columns (total 48 columns):\n",
      " #   Column                          Non-Null Count  Dtype  \n",
      "---  ------                          --------------  -----  \n",
      " 0   age                             41188 non-null  float64\n",
      " 1   duration                        41188 non-null  float64\n",
      " 2   campaign                        41188 non-null  int64  \n",
      " 3   pdays                           41188 non-null  float64\n",
      " 4   previous                        41188 non-null  float64\n",
      " 5   emp.var.rate                    41188 non-null  float64\n",
      " 6   cons.price.idx                  41188 non-null  float64\n",
      " 7   cons.conf.idx                   41188 non-null  float64\n",
      " 8   euribor3m                       41188 non-null  float64\n",
      " 9   nr.employed                     41188 non-null  float64\n",
      " 10  job_admin.                      41188 non-null  float64\n",
      " 11  job_blue-collar                 41188 non-null  float64\n",
      " 12  job_entrepreneur                41188 non-null  float64\n",
      " 13  job_housemaid                   41188 non-null  float64\n",
      " 14  job_management                  41188 non-null  float64\n",
      " 15  job_retired                     41188 non-null  float64\n",
      " 16  job_self-employed               41188 non-null  float64\n",
      " 17  job_services                    41188 non-null  float64\n",
      " 18  job_student                     41188 non-null  float64\n",
      " 19  job_technician                  41188 non-null  float64\n",
      " 20  job_unemployed                  41188 non-null  float64\n",
      " 21  job_unknown                     41188 non-null  float64\n",
      " 22  marital_divorced                41188 non-null  float64\n",
      " 23  marital_married                 41188 non-null  float64\n",
      " 24  marital_single                  41188 non-null  float64\n",
      " 25  marital_unknown                 41188 non-null  float64\n",
      " 26  eductation_basic.4y             41188 non-null  float64\n",
      " 27  eductation_basic.6y             41188 non-null  float64\n",
      " 28  eductation_basic.9y             41188 non-null  float64\n",
      " 29  eductation_high.school          41188 non-null  float64\n",
      " 30  eductation_illiterate           41188 non-null  float64\n",
      " 31  eductation_professional.course  41188 non-null  float64\n",
      " 32  eductation_university.degree    41188 non-null  float64\n",
      " 33  eductation_unknown              41188 non-null  float64\n",
      " 34  default_no                      41188 non-null  float64\n",
      " 35  default_unknown                 41188 non-null  float64\n",
      " 36  default_yes                     41188 non-null  float64\n",
      " 37  housing_no                      41188 non-null  float64\n",
      " 38  housing_unknown                 41188 non-null  float64\n",
      " 39  housing_yes                     41188 non-null  float64\n",
      " 40  loan_no                         41188 non-null  float64\n",
      " 41  loan_unknown                    41188 non-null  float64\n",
      " 42  loan_yes                        41188 non-null  float64\n",
      " 43  contact_cellular                41188 non-null  float64\n",
      " 44  contact_telephone               41188 non-null  float64\n",
      " 45  poutcome_failure                41188 non-null  float64\n",
      " 46  poutcome_nonexistent            41188 non-null  float64\n",
      " 47  poutcome_success                41188 non-null  float64\n",
      "dtypes: float64(47), int64(1)\n",
      "memory usage: 15.1 MB\n"
     ]
    }
   ],
   "source": [
    "from sklearn.preprocessing import OneHotEncoder\n",
    "# creating instance of one-hot-encoder\n",
    "enc = OneHotEncoder()\n",
    "\n",
    "#create dummy variables for job\n",
    "enc_df = pd.DataFrame(enc.fit_transform(data[['job']]).toarray())\n",
    "\n",
    "enc_df.columns = enc.get_feature_names(['job'])\n",
    "\n",
    "data.drop(['job'] ,axis=1, inplace=True)\n",
    "\n",
    "data = pd.concat([data, enc_df ], axis=1)\n",
    "\n",
    "#create dummy variables for marital\n",
    "enc_df = pd.DataFrame(enc.fit_transform(data[['marital']]).toarray())\n",
    "\n",
    "enc_df.columns = enc.get_feature_names(['marital'])\n",
    "\n",
    "data.drop(['marital'] ,axis=1, inplace=True)\n",
    "\n",
    "data = pd.concat([data, enc_df ], axis=1)\n",
    "\n",
    "#create dummy variables for education\n",
    "enc_df = pd.DataFrame(enc.fit_transform(data[['education']]).toarray())\n",
    "\n",
    "enc_df.columns = enc.get_feature_names(['eductation'])\n",
    "\n",
    "data.drop(['education'] ,axis=1, inplace=True)\n",
    "\n",
    "data = pd.concat([data, enc_df ], axis=1)\n",
    "\n",
    "#create dummy variables for default\n",
    "enc_df = pd.DataFrame(enc.fit_transform(data[['default']]).toarray())\n",
    "\n",
    "enc_df.columns = enc.get_feature_names(['default'])\n",
    "\n",
    "data.drop(['default'] ,axis=1, inplace=True)\n",
    "\n",
    "data = pd.concat([data, enc_df ], axis=1)\n",
    "\n",
    "#create dummy variables for housing\n",
    "enc_df = pd.DataFrame(enc.fit_transform(data[['housing']]).toarray())\n",
    "\n",
    "enc_df.columns = enc.get_feature_names(['housing'])\n",
    "\n",
    "data.drop(['housing'] ,axis=1, inplace=True)\n",
    "\n",
    "data = pd.concat([data, enc_df ], axis=1)\n",
    "\n",
    "#create dummy variables for loan\n",
    "enc_df = pd.DataFrame(enc.fit_transform(data[['loan']]).toarray())\n",
    "\n",
    "enc_df.columns = enc.get_feature_names(['loan'])\n",
    "\n",
    "data.drop(['loan'] ,axis=1, inplace=True)\n",
    "\n",
    "data = pd.concat([data, enc_df ], axis=1)\n",
    "\n",
    "#create dummy variables for contact\n",
    "enc_df = pd.DataFrame(enc.fit_transform(data[['contact']]).toarray())\n",
    "\n",
    "enc_df.columns = enc.get_feature_names(['contact'])\n",
    "\n",
    "data.drop(['contact'] ,axis=1, inplace=True)\n",
    "\n",
    "data = pd.concat([data, enc_df ], axis=1)\n",
    "\n",
    "#create dummy variables for month\n",
    "enc_df = pd.DataFrame(enc.fit_transform(data[['month']]).toarray())\n",
    "\n",
    "enc_df.columns = enc.get_feature_names(['month'])\n",
    "\n",
    "data.drop(['month'] ,axis=1, inplace=True)\n",
    "\n",
    "# data = pd.concat([data, enc_df ], axis=1)\n",
    "# usuwamy\n",
    "\n",
    "#create dummy variables for day_of_week\n",
    "enc_df = pd.DataFrame(enc.fit_transform(data[['day_of_week']]).toarray())\n",
    "\n",
    "enc_df.columns = enc.get_feature_names(['day_of_week'])\n",
    "\n",
    "data.drop(['day_of_week'] ,axis=1, inplace=True)\n",
    "\n",
    "# data = pd.concat([data, enc_df ], axis=1\n",
    "# usuwamy\n",
    "\n",
    "#create dummy variables for day_of_week\n",
    "enc_df = pd.DataFrame(enc.fit_transform(data[['poutcome']]).toarray())\n",
    "\n",
    "enc_df.columns = enc.get_feature_names(['poutcome'])\n",
    "\n",
    "data.drop(['poutcome'] ,axis=1, inplace=True)\n",
    "\n",
    "data = pd.concat([data, enc_df ], axis=1)\n",
    "\n",
    "data.info()"
   ]
  },
  {
   "cell_type": "code",
   "execution_count": 4,
   "id": "unauthorized-history",
   "metadata": {},
   "outputs": [
    {
     "name": "stdout",
     "output_type": "stream",
     "text": [
      "<class 'pandas.core.frame.DataFrame'>\n",
      "RangeIndex: 41188 entries, 0 to 41187\n",
      "Data columns (total 44 columns):\n",
      " #   Column                          Non-Null Count  Dtype  \n",
      "---  ------                          --------------  -----  \n",
      " 0   age                             41188 non-null  float64\n",
      " 1   duration                        41188 non-null  float64\n",
      " 2   campaign                        41188 non-null  int64  \n",
      " 3   pdays                           41188 non-null  float64\n",
      " 4   previous                        41188 non-null  float64\n",
      " 5   emp.var.rate                    41188 non-null  float64\n",
      " 6   cons.price.idx                  41188 non-null  float64\n",
      " 7   euribor3m                       41188 non-null  float64\n",
      " 8   nr.employed                     41188 non-null  float64\n",
      " 9   job_admin.                      41188 non-null  float64\n",
      " 10  job_blue-collar                 41188 non-null  float64\n",
      " 11  job_entrepreneur                41188 non-null  float64\n",
      " 12  job_housemaid                   41188 non-null  float64\n",
      " 13  job_management                  41188 non-null  float64\n",
      " 14  job_retired                     41188 non-null  float64\n",
      " 15  job_self-employed               41188 non-null  float64\n",
      " 16  job_services                    41188 non-null  float64\n",
      " 17  job_student                     41188 non-null  float64\n",
      " 18  job_technician                  41188 non-null  float64\n",
      " 19  job_unemployed                  41188 non-null  float64\n",
      " 20  job_unknown                     41188 non-null  float64\n",
      " 21  marital_divorced                41188 non-null  float64\n",
      " 22  marital_married                 41188 non-null  float64\n",
      " 23  marital_single                  41188 non-null  float64\n",
      " 24  marital_unknown                 41188 non-null  float64\n",
      " 25  eductation_basic.4y             41188 non-null  float64\n",
      " 26  eductation_basic.6y             41188 non-null  float64\n",
      " 27  eductation_basic.9y             41188 non-null  float64\n",
      " 28  eductation_high.school          41188 non-null  float64\n",
      " 29  eductation_illiterate           41188 non-null  float64\n",
      " 30  eductation_professional.course  41188 non-null  float64\n",
      " 31  eductation_university.degree    41188 non-null  float64\n",
      " 32  default_no                      41188 non-null  float64\n",
      " 33  default_unknown                 41188 non-null  float64\n",
      " 34  default_yes                     41188 non-null  float64\n",
      " 35  housing_no                      41188 non-null  float64\n",
      " 36  housing_unknown                 41188 non-null  float64\n",
      " 37  housing_yes                     41188 non-null  float64\n",
      " 38  loan_unknown                    41188 non-null  float64\n",
      " 39  contact_cellular                41188 non-null  float64\n",
      " 40  contact_telephone               41188 non-null  float64\n",
      " 41  poutcome_failure                41188 non-null  float64\n",
      " 42  poutcome_nonexistent            41188 non-null  float64\n",
      " 43  poutcome_success                41188 non-null  float64\n",
      "dtypes: float64(43), int64(1)\n",
      "memory usage: 13.8 MB\n"
     ]
    }
   ],
   "source": [
    "data.drop(['loan_no'] ,axis=1, inplace=True)\n",
    "data.drop(['loan_yes'] ,axis=1, inplace=True)\n",
    "data.drop(['cons.conf.idx'] ,axis=1, inplace=True)\n",
    "data.drop(['eductation_unknown'] ,axis=1, inplace=True)\n",
    "\n",
    "data.info()"
   ]
  },
  {
   "cell_type": "code",
   "execution_count": 5,
   "id": "affected-drove",
   "metadata": {},
   "outputs": [],
   "source": [
    "from sklearn.preprocessing import StandardScaler\n",
    "from sklearn.model_selection import train_test_split\n",
    "scaler = StandardScaler()\n",
    "\n",
    "dataset_scaled = pd.DataFrame(scaler.fit_transform(data.values), columns=data.columns, index=data.index)\n",
    "X_train, X_test, y_train, y_test = train_test_split(dataset_scaled, result, test_size = 0.30, stratify=result)"
   ]
  },
  {
   "cell_type": "code",
   "execution_count": 6,
   "id": "utility-heaven",
   "metadata": {},
   "outputs": [
    {
     "name": "stdout",
     "output_type": "stream",
     "text": [
      "(41188, 44)\n",
      "(28831, 44)\n",
      "(28831,)\n",
      "(12357, 44)\n",
      "(12357,)\n",
      "0    25583\n",
      "1     3248\n",
      "Name: y, dtype: int64\n"
     ]
    }
   ],
   "source": [
    "print(data.shape)\n",
    "print(X_train.shape)\n",
    "print(y_train.shape)\n",
    "print(X_test.shape)\n",
    "print(y_test.shape)\n",
    "\n",
    "print(y_train.value_counts())"
   ]
  },
  {
   "cell_type": "code",
   "execution_count": 7,
   "id": "domestic-smooth",
   "metadata": {},
   "outputs": [
    {
     "name": "stdout",
     "output_type": "stream",
     "text": [
      "0    25583\n",
      "1    25583\n",
      "Name: y, dtype: int64\n",
      "0    3248\n",
      "1    3248\n",
      "Name: y, dtype: int64\n"
     ]
    }
   ],
   "source": [
    "from imblearn.over_sampling import SMOTE\n",
    "from imblearn.under_sampling import RandomUnderSampler\n",
    "\n",
    "oversample = SMOTE()\n",
    "X_train_over, y_train_over = oversample.fit_resample(X_train, y_train)\n",
    "\n",
    "undersample = RandomUnderSampler(sampling_strategy='majority')\n",
    "X_train_under, y_train_under = undersample.fit_resample(X_train, y_train)\n",
    "\n",
    "print(y_train_over.value_counts())\n",
    "print(y_train_under.value_counts())"
   ]
  },
  {
   "cell_type": "code",
   "execution_count": 8,
   "id": "equivalent-hormone",
   "metadata": {},
   "outputs": [
    {
     "name": "stdout",
     "output_type": "stream",
     "text": [
      "StratifiedKFold(n_splits=3, random_state=1, shuffle=True)\n"
     ]
    }
   ],
   "source": [
    "from sklearn.model_selection import StratifiedKFold\n",
    "\n",
    "X = dataset_scaled\n",
    "y = result\n",
    "\n",
    "skf = StratifiedKFold(n_splits=3, shuffle=True, random_state=1)\n",
    "skf.get_n_splits(X, y)\n",
    "\n",
    "print(skf)"
   ]
  },
  {
   "cell_type": "code",
   "execution_count": 9,
   "id": "finnish-president",
   "metadata": {},
   "outputs": [],
   "source": [
    "from sklearn.metrics import accuracy_score\n",
    "from sklearn.metrics import f1_score\n",
    "import matplotlib.pyplot as plt\n",
    "from sklearn.metrics import plot_confusion_matrix\n",
    "from sklearn.svm import SVC"
   ]
  },
  {
   "cell_type": "markdown",
   "id": "loaded-climb",
   "metadata": {},
   "source": [
    "## SVC"
   ]
  },
  {
   "cell_type": "code",
   "execution_count": 10,
   "id": "atlantic-visiting",
   "metadata": {
    "scrolled": true
   },
   "outputs": [
    {
     "name": "stdout",
     "output_type": "stream",
     "text": [
      "Accuracy score: 0.85\n",
      "F1 score: 0.56\n"
     ]
    },
    {
     "data": {
      "image/png": "[encoded data removed]",
      "text/plain": [
       "<Figure size 432x288 with 2 Axes>"
      ]
     },
     "metadata": {
      "needs_background": "light"
     },
     "output_type": "display_data"
    }
   ],
   "source": [
    "clf_svc = SVC(gamma='auto', class_weight='balanced', probability=True)\n",
    "clf_svc.fit(X_train, y_train)\n",
    "\n",
    "y_pred = clf_svc.predict(X_test)\n",
    "\n",
    "acc_sc = accuracy_score(y_test, y_pred)\n",
    "print('Accuracy score: %.2f' % acc_sc)\n",
    "\n",
    "f1_sc = f1_score(y_test, y_pred, average='binary')\n",
    "print('F1 score: %.2f' % f1_sc)\n",
    "\n",
    "plot_confusion_matrix(clf_svc, X_test, y_test)  \n",
    "plt.show()"
   ]
  },
  {
   "cell_type": "markdown",
   "id": "nasty-color",
   "metadata": {},
   "source": [
    "## SVC oversampling"
   ]
  },
  {
   "cell_type": "code",
   "execution_count": 11,
   "id": "under-promise",
   "metadata": {
    "scrolled": true
   },
   "outputs": [
    {
     "name": "stdout",
     "output_type": "stream",
     "text": [
      "Accuracy score: 0.85\n",
      "F1 score: 0.56\n"
     ]
    },
    {
     "data": {
      "image/png": "[encoded data removed]",
      "text/plain": [
       "<Figure size 432x288 with 2 Axes>"
      ]
     },
     "metadata": {
      "needs_background": "light"
     },
     "output_type": "display_data"
    }
   ],
   "source": [
    "clf_svc_o = SVC(gamma='auto', class_weight='balanced', probability=True)\n",
    "clf_svc_o.fit(X_train_over, y_train_over)\n",
    "\n",
    "y_pred = clf_svc.predict(X_test)\n",
    "\n",
    "acc_sc = accuracy_score(y_test, y_pred)\n",
    "print('Accuracy score: %.2f' % acc_sc)\n",
    "\n",
    "f1_sc = f1_score(y_test, y_pred, average='binary')\n",
    "print('F1 score: %.2f' % f1_sc)\n",
    "\n",
    "plot_confusion_matrix(clf_svc_o, X_test, y_test)  \n",
    "plt.show()"
   ]
  },
  {
   "cell_type": "markdown",
   "id": "dying-sally",
   "metadata": {},
   "source": [
    "## SVC undersampling"
   ]
  },
  {
   "cell_type": "code",
   "execution_count": 12,
   "id": "genuine-equilibrium",
   "metadata": {
    "scrolled": false
   },
   "outputs": [
    {
     "name": "stdout",
     "output_type": "stream",
     "text": [
      "Accuracy score: 0.85\n",
      "F1 score: 0.56\n"
     ]
    },
    {
     "data": {
      "image/png": "[encoded data removed]",
      "text/plain": [
       "<Figure size 432x288 with 2 Axes>"
      ]
     },
     "metadata": {
      "needs_background": "light"
     },
     "output_type": "display_data"
    }
   ],
   "source": [
    "clf_svc_u = SVC(gamma='auto', class_weight='balanced', probability=True)\n",
    "clf_svc_u.fit(X_train_under, y_train_under)\n",
    "\n",
    "y_pred = clf_svc.predict(X_test)\n",
    "\n",
    "acc_sc = accuracy_score(y_test, y_pred)\n",
    "print('Accuracy score: %.2f' % acc_sc)\n",
    "\n",
    "f1_sc = f1_score(y_test, y_pred, average='binary')\n",
    "print('F1 score: %.2f' % f1_sc)\n",
    "\n",
    "plot_confusion_matrix(clf_svc_u, X_test, y_test)  \n",
    "plt.show()"
   ]
  },
  {
   "cell_type": "markdown",
   "id": "premium-chess",
   "metadata": {},
   "source": [
    "## DecisionTree"
   ]
  },
  {
   "cell_type": "code",
   "execution_count": 13,
   "id": "coordinate-extension",
   "metadata": {
    "scrolled": true
   },
   "outputs": [
    {
     "name": "stdout",
     "output_type": "stream",
     "text": [
      "Accuracy score: 0.89\n",
      "F1 score: 0.51\n"
     ]
    },
    {
     "data": {
      "image/png": "[encoded data removed]",
      "text/plain": [
       "<Figure size 432x288 with 2 Axes>"
      ]
     },
     "metadata": {
      "needs_background": "light"
     },
     "output_type": "display_data"
    }
   ],
   "source": [
    "from sklearn.tree import DecisionTreeClassifier\n",
    "\n",
    "clf_dt = DecisionTreeClassifier(random_state=0, criterion='gini')\n",
    "clf_dt.fit(X_train, y_train)\n",
    "\n",
    "y_pred = clf_dt.predict(X_test)\n",
    "\n",
    "acc_sc = accuracy_score(y_test, y_pred)\n",
    "print('Accuracy score: %.2f' % acc_sc)\n",
    "\n",
    "f1_sc = f1_score(y_test, y_pred, average='binary')\n",
    "print('F1 score: %.2f' % f1_sc)\n",
    "\n",
    "plot_confusion_matrix(clf_dt, X_test, y_test)  \n",
    "plt.show()"
   ]
  },
  {
   "cell_type": "markdown",
   "id": "environmental-bible",
   "metadata": {},
   "source": [
    "## DecisionTree oversampling"
   ]
  },
  {
   "cell_type": "code",
   "execution_count": 14,
   "id": "dental-fetish",
   "metadata": {
    "scrolled": true
   },
   "outputs": [
    {
     "name": "stdout",
     "output_type": "stream",
     "text": [
      "Accuracy score: 0.89\n",
      "F1 score: 0.51\n"
     ]
    },
    {
     "data": {
      "image/png": "[encoded data removed]",
      "text/plain": [
       "<Figure size 432x288 with 2 Axes>"
      ]
     },
     "metadata": {
      "needs_background": "light"
     },
     "output_type": "display_data"
    }
   ],
   "source": [
    "clf_dt_o = DecisionTreeClassifier(random_state=0, criterion='gini')\n",
    "clf_dt_o.fit(X_train_over, y_train_over)\n",
    "\n",
    "y_pred = clf_dt.predict(X_test)\n",
    "\n",
    "acc_sc = accuracy_score(y_test, y_pred)\n",
    "print('Accuracy score: %.2f' % acc_sc)\n",
    "\n",
    "f1_sc = f1_score(y_test, y_pred, average='binary')\n",
    "print('F1 score: %.2f' % f1_sc)\n",
    "\n",
    "plot_confusion_matrix(clf_dt_o, X_test, y_test)  \n",
    "plt.show()"
   ]
  },
  {
   "cell_type": "markdown",
   "id": "million-guard",
   "metadata": {},
   "source": [
    "## DecisionTree undersampling"
   ]
  },
  {
   "cell_type": "code",
   "execution_count": 15,
   "id": "corporate-paper",
   "metadata": {
    "scrolled": false
   },
   "outputs": [
    {
     "name": "stdout",
     "output_type": "stream",
     "text": [
      "Accuracy score: 0.89\n",
      "F1 score: 0.51\n"
     ]
    },
    {
     "data": {
      "image/png": "[encoded data removed]",
      "text/plain": [
       "<Figure size 432x288 with 2 Axes>"
      ]
     },
     "metadata": {
      "needs_background": "light"
     },
     "output_type": "display_data"
    }
   ],
   "source": [
    "clf_dt_u = DecisionTreeClassifier(random_state=0, criterion='gini')\n",
    "clf_dt_u.fit(X_train_under, y_train_under)\n",
    "\n",
    "y_pred = clf_dt.predict(X_test)\n",
    "\n",
    "acc_sc = accuracy_score(y_test, y_pred)\n",
    "print('Accuracy score: %.2f' % acc_sc)\n",
    "\n",
    "f1_sc = f1_score(y_test, y_pred, average='binary')\n",
    "print('F1 score: %.2f' % f1_sc)\n",
    "\n",
    "plot_confusion_matrix(clf_dt_u, X_test, y_test)  \n",
    "plt.show()"
   ]
  },
  {
   "cell_type": "markdown",
   "id": "cleared-trunk",
   "metadata": {},
   "source": [
    "## LogisticRegression"
   ]
  },
  {
   "cell_type": "code",
   "execution_count": 16,
   "id": "afraid-belgium",
   "metadata": {
    "scrolled": true
   },
   "outputs": [
    {
     "name": "stdout",
     "output_type": "stream",
     "text": [
      "Accuracy score: 0.91\n",
      "F1 score: 0.47\n"
     ]
    },
    {
     "data": {
      "image/png": "[encoded data removed]",
      "text/plain": [
       "<Figure size 432x288 with 2 Axes>"
      ]
     },
     "metadata": {
      "needs_background": "light"
     },
     "output_type": "display_data"
    }
   ],
   "source": [
    "from sklearn.linear_model import LogisticRegression\n",
    "\n",
    "clf_lr = LogisticRegression(random_state=0)\n",
    "clf_lr.fit(X_train, y_train)\n",
    "\n",
    "y_pred = clf_lr.predict(X_test)\n",
    "\n",
    "acc_sc = accuracy_score(y_test, y_pred)\n",
    "print('Accuracy score: %.2f' % acc_sc)\n",
    "\n",
    "f1_sc = f1_score(y_test, y_pred, average='binary')\n",
    "print('F1 score: %.2f' % f1_sc)\n",
    "\n",
    "plot_confusion_matrix(clf_lr, X_test, y_test)  \n",
    "plt.show()"
   ]
  },
  {
   "cell_type": "markdown",
   "id": "pursuant-arkansas",
   "metadata": {},
   "source": [
    "## LogisticRegression oversampling"
   ]
  },
  {
   "cell_type": "code",
   "execution_count": 17,
   "id": "tropical-finger",
   "metadata": {
    "scrolled": true
   },
   "outputs": [
    {
     "name": "stdout",
     "output_type": "stream",
     "text": [
      "Accuracy score: 0.91\n",
      "F1 score: 0.47\n"
     ]
    },
    {
     "data": {
      "image/png": "[encoded data removed]",
      "text/plain": [
       "<Figure size 432x288 with 2 Axes>"
      ]
     },
     "metadata": {
      "needs_background": "light"
     },
     "output_type": "display_data"
    }
   ],
   "source": [
    "clf_lr_o = LogisticRegression(random_state=0)\n",
    "clf_lr_o.fit(X_train_over, y_train_over)\n",
    "\n",
    "y_pred = clf_lr.predict(X_test)\n",
    "\n",
    "acc_sc = accuracy_score(y_test, y_pred)\n",
    "print('Accuracy score: %.2f' % acc_sc)\n",
    "\n",
    "f1_sc = f1_score(y_test, y_pred, average='binary')\n",
    "print('F1 score: %.2f' % f1_sc)\n",
    "\n",
    "plot_confusion_matrix(clf_lr_o, X_test, y_test)  \n",
    "plt.show()"
   ]
  },
  {
   "cell_type": "markdown",
   "id": "dying-incident",
   "metadata": {},
   "source": [
    "## LogisticRegression undersampling"
   ]
  },
  {
   "cell_type": "code",
   "execution_count": 18,
   "id": "powered-separate",
   "metadata": {
    "scrolled": false
   },
   "outputs": [
    {
     "name": "stdout",
     "output_type": "stream",
     "text": [
      "Accuracy score: 0.91\n",
      "F1 score: 0.47\n"
     ]
    },
    {
     "data": {
      "image/png": "[encoded data removed]",
      "text/plain": [
       "<Figure size 432x288 with 2 Axes>"
      ]
     },
     "metadata": {
      "needs_background": "light"
     },
     "output_type": "display_data"
    }
   ],
   "source": [
    "clf_lr_u = LogisticRegression(random_state=0)\n",
    "clf_lr_u.fit(X_train_under, y_train_under)\n",
    "\n",
    "y_pred = clf_lr.predict(X_test)\n",
    "\n",
    "acc_sc = accuracy_score(y_test, y_pred)\n",
    "print('Accuracy score: %.2f' % acc_sc)\n",
    "\n",
    "f1_sc = f1_score(y_test, y_pred, average='binary')\n",
    "print('F1 score: %.2f' % f1_sc)\n",
    "\n",
    "plot_confusion_matrix(clf_lr_u, X_test, y_test)  \n",
    "plt.show()"
   ]
  },
  {
   "cell_type": "markdown",
   "id": "documentary-romania",
   "metadata": {},
   "source": [
    "## KNNeighbours"
   ]
  },
  {
   "cell_type": "code",
   "execution_count": 19,
   "id": "stunning-support",
   "metadata": {
    "scrolled": true
   },
   "outputs": [
    {
     "name": "stdout",
     "output_type": "stream",
     "text": [
      "Accuracy score: 0.89\n",
      "F1 score: 0.41\n"
     ]
    },
    {
     "data": {
      "image/png": "[encoded data removed]",
      "text/plain": [
       "<Figure size 432x288 with 2 Axes>"
      ]
     },
     "metadata": {
      "needs_background": "light"
     },
     "output_type": "display_data"
    }
   ],
   "source": [
    "from sklearn.neighbors import KNeighborsClassifier\n",
    "\n",
    "clf_knn = KNeighborsClassifier(n_neighbors=3)\n",
    "clf_knn.fit(X_train, y_train)\n",
    "\n",
    "y_pred = clf_knn.predict(X_test)\n",
    "\n",
    "acc_sc = accuracy_score(y_test, y_pred)\n",
    "print('Accuracy score: %.2f' % acc_sc)\n",
    "\n",
    "f1_sc = f1_score(y_test, y_pred, average='binary')\n",
    "print('F1 score: %.2f' % f1_sc)\n",
    "\n",
    "plot_confusion_matrix(clf_knn, X_test, y_test)  \n",
    "plt.show()"
   ]
  },
  {
   "cell_type": "markdown",
   "id": "brilliant-republican",
   "metadata": {},
   "source": [
    "## KNNeighbours oversampling"
   ]
  },
  {
   "cell_type": "code",
   "execution_count": 20,
   "id": "incorporate-thousand",
   "metadata": {
    "scrolled": true
   },
   "outputs": [
    {
     "name": "stdout",
     "output_type": "stream",
     "text": [
      "Accuracy score: 0.89\n",
      "F1 score: 0.41\n"
     ]
    },
    {
     "data": {
      "image/png": "[encoded data removed]",
      "text/plain": [
       "<Figure size 432x288 with 2 Axes>"
      ]
     },
     "metadata": {
      "needs_background": "light"
     },
     "output_type": "display_data"
    }
   ],
   "source": [
    "clf_knn_o = KNeighborsClassifier(n_neighbors=3)\n",
    "clf_knn_o.fit(X_train_over, y_train_over)\n",
    "\n",
    "y_pred = clf_knn.predict(X_test)\n",
    "\n",
    "acc_sc = accuracy_score(y_test, y_pred)\n",
    "print('Accuracy score: %.2f' % acc_sc)\n",
    "\n",
    "f1_sc = f1_score(y_test, y_pred, average='binary')\n",
    "print('F1 score: %.2f' % f1_sc)\n",
    "\n",
    "plot_confusion_matrix(clf_knn_o, X_test, y_test)  \n",
    "plt.show()"
   ]
  },
  {
   "cell_type": "markdown",
   "id": "computational-speed",
   "metadata": {},
   "source": [
    "## KNNeighbours undersampling"
   ]
  },
  {
   "cell_type": "code",
   "execution_count": 21,
   "id": "outdoor-humanitarian",
   "metadata": {
    "scrolled": false
   },
   "outputs": [
    {
     "name": "stdout",
     "output_type": "stream",
     "text": [
      "Accuracy score: 0.89\n",
      "F1 score: 0.41\n"
     ]
    },
    {
     "data": {
      "image/png": "[encoded data removed]",
      "text/plain": [
       "<Figure size 432x288 with 2 Axes>"
      ]
     },
     "metadata": {
      "needs_background": "light"
     },
     "output_type": "display_data"
    }
   ],
   "source": [
    "clf_knn_u = KNeighborsClassifier(n_neighbors=3)\n",
    "clf_knn_u.fit(X_train_under, y_train_under)\n",
    "\n",
    "y_pred = clf_knn.predict(X_test)\n",
    "\n",
    "acc_sc = accuracy_score(y_test, y_pred)\n",
    "print('Accuracy score: %.2f' % acc_sc)\n",
    "\n",
    "f1_sc = f1_score(y_test, y_pred, average='binary')\n",
    "print('F1 score: %.2f' % f1_sc)\n",
    "\n",
    "plot_confusion_matrix(clf_knn_u, X_test, y_test)  \n",
    "plt.show()"
   ]
  },
  {
   "cell_type": "markdown",
   "id": "orange-attachment",
   "metadata": {},
   "source": [
    "## Voting Classifier"
   ]
  },
  {
   "cell_type": "markdown",
   "id": "electrical-brook",
   "metadata": {},
   "source": [
    "W wersji hard o ostatecznym wyniku decyduje ten wynik który jest najczęściej zwracany przez klasyfikatory. Jeśli liczba klasyfikatorów jest parzysta i jest remis w głosowaniu wtedy o ostatecznym wyniku decyduje kolejność klasyfikatorów. "
   ]
  },
  {
   "cell_type": "code",
   "execution_count": 22,
   "id": "painted-advancement",
   "metadata": {},
   "outputs": [
    {
     "name": "stdout",
     "output_type": "stream",
     "text": [
      "Accuracy score: 0.90\n",
      "F1 score: 0.48\n"
     ]
    },
    {
     "data": {
      "image/png": "[encoded data removed]",
      "text/plain": [
       "<Figure size 432x288 with 2 Axes>"
      ]
     },
     "metadata": {
      "needs_background": "light"
     },
     "output_type": "display_data"
    }
   ],
   "source": [
    "from sklearn.ensemble import VotingClassifier\n",
    "\n",
    "eclf = VotingClassifier(estimators=[\n",
    "    ('svc' ,clf_svc), ('dt' ,clf_dt), ('lr' , clf_lr), ('knn', clf_knn)], voting='hard')\n",
    "\n",
    "eclf.fit(X_train, y_train)\n",
    "\n",
    "y_pred = eclf.predict(X_test)\n",
    "\n",
    "acc_sc = accuracy_score(y_test, y_pred)\n",
    "print('Accuracy score: %.2f' % acc_sc)\n",
    "\n",
    "f1_sc = f1_score(y_test, y_pred, average='binary')\n",
    "print('F1 score: %.2f' % f1_sc)\n",
    "\n",
    "plot_confusion_matrix(eclf, X_test, y_test)  \n",
    "plt.show()"
   ]
  },
  {
   "cell_type": "markdown",
   "id": "quick-harmony",
   "metadata": {},
   "source": [
    "W przypadku wersji soft brana jest średnia z predykcji poszczególnych klasyfikatorów."
   ]
  },
  {
   "cell_type": "code",
   "execution_count": 23,
   "id": "postal-pilot",
   "metadata": {},
   "outputs": [
    {
     "name": "stdout",
     "output_type": "stream",
     "text": [
      "Accuracy score: 0.91\n",
      "F1 score: 0.50\n"
     ]
    },
    {
     "data": {
      "image/png": "[encoded data removed]",
      "text/plain": [
       "<Figure size 432x288 with 2 Axes>"
      ]
     },
     "metadata": {
      "needs_background": "light"
     },
     "output_type": "display_data"
    }
   ],
   "source": [
    "eclf_soft = VotingClassifier(estimators=[\n",
    "    ('svc' ,clf_svc), ('dt' ,clf_dt), ('lr' , clf_lr), ('knn', clf_knn)], voting='soft', flatten_transform=True)\n",
    "\n",
    "eclf_soft.fit(X_train, y_train)\n",
    "\n",
    "y_pred = eclf_soft.predict(X_test)\n",
    "\n",
    "acc_sc = accuracy_score(y_test, y_pred)\n",
    "print('Accuracy score: %.2f' % acc_sc)\n",
    "\n",
    "f1_sc = f1_score(y_test, y_pred, average='binary')\n",
    "print('F1 score: %.2f' % f1_sc)\n",
    "\n",
    "plot_confusion_matrix(eclf_soft, X_test, y_test)  \n",
    "plt.show()"
   ]
  },
  {
   "cell_type": "markdown",
   "id": "normal-extent",
   "metadata": {},
   "source": [
    "### Voting Classifier for best classifiers with oversampling"
   ]
  },
  {
   "cell_type": "code",
   "execution_count": 24,
   "id": "emerging-nomination",
   "metadata": {},
   "outputs": [
    {
     "name": "stdout",
     "output_type": "stream",
     "text": [
      "Accuracy score: 0.87\n",
      "F1 score: 0.58\n"
     ]
    },
    {
     "data": {
      "image/png": "[encoded data removed]",
      "text/plain": [
       "<Figure size 432x288 with 2 Axes>"
      ]
     },
     "metadata": {
      "needs_background": "light"
     },
     "output_type": "display_data"
    }
   ],
   "source": [
    "eclf_over_hard = VotingClassifier(estimators=[\n",
    "    ('svc' ,clf_svc_o), ('dt' ,clf_dt_o), ('lr' , clf_lr_o)], voting='hard')\n",
    "\n",
    "eclf_over_hard.fit(X_train_over, y_train_over)\n",
    "\n",
    "y_pred = eclf_over_hard.predict(X_test)\n",
    "\n",
    "acc_sc = accuracy_score(y_test, y_pred)\n",
    "print('Accuracy score: %.2f' % acc_sc)\n",
    "\n",
    "f1_sc = f1_score(y_test, y_pred, average='binary')\n",
    "print('F1 score: %.2f' % f1_sc)\n",
    "\n",
    "plot_confusion_matrix(eclf_over_hard, X_test, y_test)  \n",
    "plt.show()"
   ]
  },
  {
   "cell_type": "code",
   "execution_count": 25,
   "id": "prompt-blame",
   "metadata": {},
   "outputs": [
    {
     "name": "stdout",
     "output_type": "stream",
     "text": [
      "Accuracy score: 0.88\n",
      "F1 score: 0.59\n"
     ]
    },
    {
     "data": {
      "image/png": "[encoded data removed]",
      "text/plain": [
       "<Figure size 432x288 with 2 Axes>"
      ]
     },
     "metadata": {
      "needs_background": "light"
     },
     "output_type": "display_data"
    }
   ],
   "source": [
    "eclf_over_soft = VotingClassifier(estimators=[\n",
    "    ('svc' ,clf_svc_o), ('dt' ,clf_dt_o), ('lr' , clf_lr_o)], voting='soft')\n",
    "\n",
    "eclf_over_soft.fit(X_train_over, y_train_over)\n",
    "\n",
    "y_pred = eclf_over_soft.predict(X_test)\n",
    "\n",
    "acc_sc = accuracy_score(y_test, y_pred)\n",
    "print('Accuracy score: %.2f' % acc_sc)\n",
    "\n",
    "f1_sc = f1_score(y_test, y_pred, average='binary')\n",
    "print('F1 score: %.2f' % f1_sc)\n",
    "\n",
    "plot_confusion_matrix(eclf_over_soft, X_test, y_test)  \n",
    "plt.show()"
   ]
  },
  {
   "cell_type": "markdown",
   "id": "innocent-commercial",
   "metadata": {},
   "source": [
    "### Voting Classifier for best classifiers with undersampling"
   ]
  },
  {
   "cell_type": "code",
   "execution_count": 26,
   "id": "seeing-transport",
   "metadata": {},
   "outputs": [
    {
     "name": "stdout",
     "output_type": "stream",
     "text": [
      "Accuracy score: 0.85\n",
      "F1 score: 0.57\n"
     ]
    },
    {
     "data": {
      "image/png": "[encoded data removed]",
      "text/plain": [
       "<Figure size 432x288 with 2 Axes>"
      ]
     },
     "metadata": {
      "needs_background": "light"
     },
     "output_type": "display_data"
    }
   ],
   "source": [
    "eclf_under_hard = VotingClassifier(estimators=[\n",
    "    ('svc' ,clf_svc_u), ('dt' ,clf_dt_u), ('lr' , clf_lr_u)], voting='hard')\n",
    "\n",
    "eclf_under_hard.fit(X_train_under, y_train_under)\n",
    "\n",
    "y_pred = eclf_under_hard.predict(X_test)\n",
    "\n",
    "acc_sc = accuracy_score(y_test, y_pred)\n",
    "print('Accuracy score: %.2f' % acc_sc)\n",
    "\n",
    "f1_sc = f1_score(y_test, y_pred, average='binary')\n",
    "print('F1 score: %.2f' % f1_sc)\n",
    "\n",
    "plot_confusion_matrix(eclf_under_hard, X_test, y_test)  \n",
    "plt.show()"
   ]
  },
  {
   "cell_type": "code",
   "execution_count": 27,
   "id": "efficient-murder",
   "metadata": {},
   "outputs": [
    {
     "name": "stdout",
     "output_type": "stream",
     "text": [
      "Accuracy score: 0.85\n",
      "F1 score: 0.57\n"
     ]
    },
    {
     "data": {
      "image/png": "[encoded data removed]",
      "text/plain": [
       "<Figure size 432x288 with 2 Axes>"
      ]
     },
     "metadata": {
      "needs_background": "light"
     },
     "output_type": "display_data"
    }
   ],
   "source": [
    "eclf_under_soft = VotingClassifier(estimators=[\n",
    "    ('svc' ,clf_svc_u), ('dt' ,clf_dt_u), ('lr' , clf_lr_u)], voting='soft')\n",
    "\n",
    "eclf_under_soft.fit(X_train_under, y_train_under)\n",
    "\n",
    "y_pred = eclf_under_soft.predict(X_test)\n",
    "\n",
    "acc_sc = accuracy_score(y_test, y_pred)\n",
    "print('Accuracy score: %.2f' % acc_sc)\n",
    "\n",
    "f1_sc = f1_score(y_test, y_pred, average='binary')\n",
    "print('F1 score: %.2f' % f1_sc)\n",
    "\n",
    "plot_confusion_matrix(eclf_under_soft, X_test, y_test)  \n",
    "plt.show()"
   ]
  },
  {
   "cell_type": "markdown",
   "id": "loved-bailey",
   "metadata": {},
   "source": [
    "## Random Forrest Classifier"
   ]
  },
  {
   "cell_type": "code",
   "execution_count": 28,
   "id": "legitimate-danish",
   "metadata": {},
   "outputs": [
    {
     "name": "stdout",
     "output_type": "stream",
     "text": [
      "Accuracy score: 0.91\n",
      "F1 score: 0.54\n"
     ]
    },
    {
     "data": {
      "image/png": "[encoded data removed]",
      "text/plain": [
       "<Figure size 432x288 with 2 Axes>"
      ]
     },
     "metadata": {
      "needs_background": "light"
     },
     "output_type": "display_data"
    }
   ],
   "source": [
    "from sklearn.ensemble import RandomForestClassifier\n",
    "\n",
    "clf_rand_forest = RandomForestClassifier(random_state=0)\n",
    "\n",
    "clf_rand_forest.fit(X_train, y_train)\n",
    "\n",
    "y_pred = clf_rand_forest.predict(X_test)\n",
    "\n",
    "acc_sc = accuracy_score(y_test, y_pred)\n",
    "print('Accuracy score: %.2f' % acc_sc)\n",
    "\n",
    "f1_sc = f1_score(y_test, y_pred, average='binary')\n",
    "print('F1 score: %.2f' % f1_sc)\n",
    "\n",
    "plot_confusion_matrix(clf_rand_forest, X_test, y_test)  \n",
    "plt.show()"
   ]
  },
  {
   "cell_type": "markdown",
   "id": "reflected-carter",
   "metadata": {},
   "source": [
    "### Random Forrest Classifier with undersampling"
   ]
  },
  {
   "cell_type": "code",
   "execution_count": 29,
   "id": "diverse-christopher",
   "metadata": {},
   "outputs": [
    {
     "name": "stdout",
     "output_type": "stream",
     "text": [
      "Accuracy score: 0.85\n",
      "F1 score: 0.58\n"
     ]
    },
    {
     "data": {
      "image/png": "[encoded data removed]",
      "text/plain": [
       "<Figure size 432x288 with 2 Axes>"
      ]
     },
     "metadata": {
      "needs_background": "light"
     },
     "output_type": "display_data"
    }
   ],
   "source": [
    "clf_rand_forest.fit(X_train_under, y_train_under)\n",
    "\n",
    "y_pred = clf_rand_forest.predict(X_test)\n",
    "\n",
    "acc_sc = accuracy_score(y_test, y_pred)\n",
    "print('Accuracy score: %.2f' % acc_sc)\n",
    "\n",
    "f1_sc = f1_score(y_test, y_pred, average='binary')\n",
    "print('F1 score: %.2f' % f1_sc)\n",
    "\n",
    "plot_confusion_matrix(clf_rand_forest, X_test, y_test)  \n",
    "plt.show()"
   ]
  },
  {
   "cell_type": "markdown",
   "id": "exposed-muscle",
   "metadata": {},
   "source": [
    "### Random Forrest Classifier with oversampling"
   ]
  },
  {
   "cell_type": "code",
   "execution_count": 30,
   "id": "needed-fusion",
   "metadata": {},
   "outputs": [
    {
     "name": "stdout",
     "output_type": "stream",
     "text": [
      "Accuracy score: 0.91\n",
      "F1 score: 0.60\n"
     ]
    },
    {
     "data": {
      "image/png": "[encoded data removed]",
      "text/plain": [
       "<Figure size 432x288 with 2 Axes>"
      ]
     },
     "metadata": {
      "needs_background": "light"
     },
     "output_type": "display_data"
    }
   ],
   "source": [
    "clf_rand_forest.fit(X_train_over, y_train_over)\n",
    "\n",
    "y_pred = clf_rand_forest.predict(X_test)\n",
    "\n",
    "acc_sc = accuracy_score(y_test, y_pred)\n",
    "print('Accuracy score: %.2f' % acc_sc)\n",
    "\n",
    "f1_sc = f1_score(y_test, y_pred, average='binary')\n",
    "print('F1 score: %.2f' % f1_sc)\n",
    "\n",
    "plot_confusion_matrix(clf_rand_forest, X_test, y_test)  \n",
    "plt.show()"
   ]
  }
 ],
 "metadata": {
  "kernelspec": {
   "display_name": "Python 3",
   "language": "python",
   "name": "python3"
  },
  "language_info": {
   "codemirror_mode": {
    "name": "ipython",
    "version": 3
   },
   "file_extension": ".py",
   "mimetype": "text/x-python",
   "name": "python",
   "nbconvert_exporter": "python",
   "pygments_lexer": "ipython3",
   "version": "3.8.8"
  }
 },
 "nbformat": 4,
 "nbformat_minor": 5
}
