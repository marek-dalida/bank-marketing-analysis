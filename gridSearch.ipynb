{
 "cells": [
  {
   "cell_type": "code",
   "execution_count": 1,
   "id": "cleared-victim",
   "metadata": {},
   "outputs": [],
   "source": [
    "import pandas as pd\n",
    "\n",
    "data = pd.read_csv('bank-additional-full.csv', sep=';')"
   ]
  },
  {
   "cell_type": "code",
   "execution_count": 2,
   "id": "apparent-piece",
   "metadata": {},
   "outputs": [],
   "source": [
    "result = data['y']\n",
    "data.drop(['y'] ,axis=1, inplace=True)\n",
    "result = result.map(lambda x: 1 if x == 'yes' else 0)\n",
    "result.value_counts()\n",
    "\n",
    "data['pdays'] = data['pdays'].map(lambda x: 0 if x == 999 else x)\n",
    "\n",
    "pd.options.mode.chained_assignment = None\n",
    "data['age'][1000:2000] = None\n",
    "data['duration'][2000:3000] = None\n",
    "data['pdays'][3000:4000] = None\n",
    "data['previous'][4000:5000] = None\n",
    "data['emp.var.rate'][10000:11000] = None\n",
    "data['cons.price.idx'][20000:21000] = None\n",
    "data['cons.conf.idx'][30000:31000] = None\n",
    "data['euribor3m'][39000:40000] = None\n",
    "data['nr.employed'][40000:41000] = None\n",
    "\n",
    "#mean\n",
    "data['age'][1000:2000] = data['age'].mean()\n",
    "data['duration'][2000:3000] = data['duration'].mean()\n",
    "data['pdays'][3000:4000] = data['pdays'].mean()\n",
    "data['previous'][4000:5000] = data['previous'].mean()\n",
    "data['emp.var.rate'][10000:11000] = data['emp.var.rate'].mean()\n",
    "data['cons.price.idx'][20000:21000] = data['cons.price.idx'].mean()\n",
    "data['cons.conf.idx'][30000:31000] = data['cons.conf.idx'].mean()\n",
    "data['euribor3m'][39000:40000] = data['euribor3m'].mean()\n",
    "data['nr.employed'][40000:41000] = data['nr.employed'].mean()"
   ]
  },
  {
   "cell_type": "code",
   "execution_count": 3,
   "id": "through-cambridge",
   "metadata": {},
   "outputs": [
    {
     "name": "stderr",
     "output_type": "stream",
     "text": [
      "/home/marek/Documents/notebook/jupyterenv/lib/python3.8/site-packages/sklearn/utils/deprecation.py:87: FutureWarning: Function get_feature_names is deprecated; get_feature_names is deprecated in 1.0 and will be removed in 1.2. Please use get_feature_names_out instead.\n",
      "  warnings.warn(msg, category=FutureWarning)\n",
      "/home/marek/Documents/notebook/jupyterenv/lib/python3.8/site-packages/sklearn/utils/deprecation.py:87: FutureWarning: Function get_feature_names is deprecated; get_feature_names is deprecated in 1.0 and will be removed in 1.2. Please use get_feature_names_out instead.\n",
      "  warnings.warn(msg, category=FutureWarning)\n",
      "/home/marek/Documents/notebook/jupyterenv/lib/python3.8/site-packages/sklearn/utils/deprecation.py:87: FutureWarning: Function get_feature_names is deprecated; get_feature_names is deprecated in 1.0 and will be removed in 1.2. Please use get_feature_names_out instead.\n",
      "  warnings.warn(msg, category=FutureWarning)\n",
      "/home/marek/Documents/notebook/jupyterenv/lib/python3.8/site-packages/sklearn/utils/deprecation.py:87: FutureWarning: Function get_feature_names is deprecated; get_feature_names is deprecated in 1.0 and will be removed in 1.2. Please use get_feature_names_out instead.\n",
      "  warnings.warn(msg, category=FutureWarning)\n",
      "/home/marek/Documents/notebook/jupyterenv/lib/python3.8/site-packages/sklearn/utils/deprecation.py:87: FutureWarning: Function get_feature_names is deprecated; get_feature_names is deprecated in 1.0 and will be removed in 1.2. Please use get_feature_names_out instead.\n",
      "  warnings.warn(msg, category=FutureWarning)\n",
      "/home/marek/Documents/notebook/jupyterenv/lib/python3.8/site-packages/sklearn/utils/deprecation.py:87: FutureWarning: Function get_feature_names is deprecated; get_feature_names is deprecated in 1.0 and will be removed in 1.2. Please use get_feature_names_out instead.\n",
      "  warnings.warn(msg, category=FutureWarning)\n",
      "/home/marek/Documents/notebook/jupyterenv/lib/python3.8/site-packages/sklearn/utils/deprecation.py:87: FutureWarning: Function get_feature_names is deprecated; get_feature_names is deprecated in 1.0 and will be removed in 1.2. Please use get_feature_names_out instead.\n",
      "  warnings.warn(msg, category=FutureWarning)\n",
      "/home/marek/Documents/notebook/jupyterenv/lib/python3.8/site-packages/sklearn/utils/deprecation.py:87: FutureWarning: Function get_feature_names is deprecated; get_feature_names is deprecated in 1.0 and will be removed in 1.2. Please use get_feature_names_out instead.\n",
      "  warnings.warn(msg, category=FutureWarning)\n",
      "/home/marek/Documents/notebook/jupyterenv/lib/python3.8/site-packages/sklearn/utils/deprecation.py:87: FutureWarning: Function get_feature_names is deprecated; get_feature_names is deprecated in 1.0 and will be removed in 1.2. Please use get_feature_names_out instead.\n",
      "  warnings.warn(msg, category=FutureWarning)\n",
      "/home/marek/Documents/notebook/jupyterenv/lib/python3.8/site-packages/sklearn/utils/deprecation.py:87: FutureWarning: Function get_feature_names is deprecated; get_feature_names is deprecated in 1.0 and will be removed in 1.2. Please use get_feature_names_out instead.\n",
      "  warnings.warn(msg, category=FutureWarning)\n"
     ]
    }
   ],
   "source": [
    "from sklearn.preprocessing import OneHotEncoder\n",
    "# creating instance of one-hot-encoder\n",
    "enc = OneHotEncoder()\n",
    "\n",
    "#create dummy variables for job\n",
    "enc_df = pd.DataFrame(enc.fit_transform(data[['job']]).toarray())\n",
    "\n",
    "enc_df.columns = enc.get_feature_names(['job'])\n",
    "\n",
    "data.drop(['job'] ,axis=1, inplace=True)\n",
    "\n",
    "data = pd.concat([data, enc_df ], axis=1)\n",
    "\n",
    "#create dummy variables for marital\n",
    "enc_df = pd.DataFrame(enc.fit_transform(data[['marital']]).toarray())\n",
    "\n",
    "enc_df.columns = enc.get_feature_names(['marital'])\n",
    "\n",
    "data.drop(['marital'] ,axis=1, inplace=True)\n",
    "\n",
    "data = pd.concat([data, enc_df ], axis=1)\n",
    "\n",
    "#create dummy variables for education\n",
    "enc_df = pd.DataFrame(enc.fit_transform(data[['education']]).toarray())\n",
    "\n",
    "enc_df.columns = enc.get_feature_names(['eductation'])\n",
    "\n",
    "data.drop(['education'] ,axis=1, inplace=True)\n",
    "\n",
    "data = pd.concat([data, enc_df ], axis=1)\n",
    "\n",
    "#create dummy variables for default\n",
    "enc_df = pd.DataFrame(enc.fit_transform(data[['default']]).toarray())\n",
    "\n",
    "enc_df.columns = enc.get_feature_names(['default'])\n",
    "\n",
    "data.drop(['default'] ,axis=1, inplace=True)\n",
    "\n",
    "data = pd.concat([data, enc_df ], axis=1)\n",
    "\n",
    "#create dummy variables for housing\n",
    "enc_df = pd.DataFrame(enc.fit_transform(data[['housing']]).toarray())\n",
    "\n",
    "enc_df.columns = enc.get_feature_names(['housing'])\n",
    "\n",
    "data.drop(['housing'] ,axis=1, inplace=True)\n",
    "\n",
    "data = pd.concat([data, enc_df ], axis=1)\n",
    "\n",
    "#create dummy variables for loan\n",
    "enc_df = pd.DataFrame(enc.fit_transform(data[['loan']]).toarray())\n",
    "\n",
    "enc_df.columns = enc.get_feature_names(['loan'])\n",
    "\n",
    "data.drop(['loan'] ,axis=1, inplace=True)\n",
    "\n",
    "data = pd.concat([data, enc_df ], axis=1)\n",
    "\n",
    "#create dummy variables for contact\n",
    "enc_df = pd.DataFrame(enc.fit_transform(data[['contact']]).toarray())\n",
    "\n",
    "enc_df.columns = enc.get_feature_names(['contact'])\n",
    "\n",
    "data.drop(['contact'] ,axis=1, inplace=True)\n",
    "\n",
    "data = pd.concat([data, enc_df ], axis=1)\n",
    "\n",
    "#create dummy variables for month\n",
    "enc_df = pd.DataFrame(enc.fit_transform(data[['month']]).toarray())\n",
    "\n",
    "enc_df.columns = enc.get_feature_names(['month'])\n",
    "\n",
    "data.drop(['month'] ,axis=1, inplace=True)\n",
    "\n",
    "# data = pd.concat([data, enc_df ], axis=1)\n",
    "# usuwamy\n",
    "\n",
    "#create dummy variables for day_of_week\n",
    "enc_df = pd.DataFrame(enc.fit_transform(data[['day_of_week']]).toarray())\n",
    "\n",
    "enc_df.columns = enc.get_feature_names(['day_of_week'])\n",
    "\n",
    "data.drop(['day_of_week'] ,axis=1, inplace=True)\n",
    "\n",
    "# data = pd.concat([data, enc_df ], axis=1\n",
    "# usuwamy\n",
    "\n",
    "#create dummy variables for day_of_week\n",
    "enc_df = pd.DataFrame(enc.fit_transform(data[['poutcome']]).toarray())\n",
    "\n",
    "enc_df.columns = enc.get_feature_names(['poutcome'])\n",
    "\n",
    "data.drop(['poutcome'] ,axis=1, inplace=True)\n",
    "\n",
    "data = pd.concat([data, enc_df ], axis=1)"
   ]
  },
  {
   "cell_type": "code",
   "execution_count": 4,
   "id": "intensive-logistics",
   "metadata": {},
   "outputs": [],
   "source": [
    "data.drop(['loan_no'] ,axis=1, inplace=True)\n",
    "data.drop(['loan_yes'] ,axis=1, inplace=True)\n",
    "data.drop(['cons.conf.idx'] ,axis=1, inplace=True)\n",
    "data.drop(['eductation_unknown'] ,axis=1, inplace=True)"
   ]
  },
  {
   "cell_type": "code",
   "execution_count": 5,
   "id": "honest-leisure",
   "metadata": {},
   "outputs": [],
   "source": [
    "from sklearn.preprocessing import StandardScaler\n",
    "from sklearn.model_selection import train_test_split\n",
    "scaler = StandardScaler()\n",
    "\n",
    "dataset_scaled = pd.DataFrame(scaler.fit_transform(data.values), columns=data.columns, index=data.index)\n",
    "X_train, X_test, y_train, y_test = train_test_split(dataset_scaled, result, test_size = 0.30, stratify=result)"
   ]
  },
  {
   "cell_type": "code",
   "execution_count": 6,
   "id": "presidential-vegetation",
   "metadata": {},
   "outputs": [],
   "source": [
    "from imblearn.over_sampling import SMOTE\n",
    "from imblearn.under_sampling import RandomUnderSampler\n",
    "\n",
    "oversample = SMOTE()\n",
    "X_train_over, y_train_over = oversample.fit_resample(X_train, y_train)\n",
    "\n",
    "undersample = RandomUnderSampler(sampling_strategy='majority')\n",
    "X_train_under, y_train_under = undersample.fit_resample(X_train, y_train)"
   ]
  },
  {
   "cell_type": "code",
   "execution_count": 7,
   "id": "pleasant-holmes",
   "metadata": {},
   "outputs": [
    {
     "name": "stdout",
     "output_type": "stream",
     "text": [
      "StratifiedKFold(n_splits=3, random_state=1, shuffle=True)\n"
     ]
    }
   ],
   "source": [
    "from sklearn.model_selection import StratifiedKFold\n",
    "\n",
    "X = dataset_scaled\n",
    "y = result\n",
    "\n",
    "skf = StratifiedKFold(n_splits=3, shuffle=True, random_state=1)\n",
    "skf.get_n_splits(X, y)\n",
    "\n",
    "print(skf)"
   ]
  },
  {
   "cell_type": "code",
   "execution_count": 8,
   "id": "acoustic-supervisor",
   "metadata": {},
   "outputs": [],
   "source": [
    "from sklearn.metrics import accuracy_score\n",
    "from sklearn.metrics import f1_score\n",
    "from sklearn.metrics import recall_score\n",
    "import matplotlib.pyplot as plt\n",
    "from sklearn.metrics import plot_confusion_matrix\n",
    "from sklearn.svm import SVC\n",
    "from sklearn.metrics import classification_report"
   ]
  },
  {
   "cell_type": "markdown",
   "id": "raised-sharing",
   "metadata": {},
   "source": [
    "### Do grid searcha zostały wybrane modele z najbardziej obiecującymi wynikami\n"
   ]
  },
  {
   "cell_type": "markdown",
   "id": "brutal-virtue",
   "metadata": {},
   "source": [
    "## SVC oversampling"
   ]
  },
  {
   "cell_type": "code",
   "execution_count": 9,
   "id": "legal-welding",
   "metadata": {},
   "outputs": [],
   "source": [
    "from sklearn.metrics import f1_score, make_scorer, recall_score\n",
    "f1 = make_scorer(f1_score, average='binary')\n",
    "recall = make_scorer(recall_score, average='binary')"
   ]
  },
  {
   "cell_type": "code",
   "execution_count": 10,
   "id": "smoking-activation",
   "metadata": {},
   "outputs": [
    {
     "name": "stdout",
     "output_type": "stream",
     "text": [
      "Accuracy score: 0.86\n",
      "F1 score: 0.56\n",
      "Recall score: 0.82\n"
     ]
    },
    {
     "name": "stderr",
     "output_type": "stream",
     "text": [
      "/home/marek/Documents/notebook/jupyterenv/lib/python3.8/site-packages/sklearn/utils/deprecation.py:87: FutureWarning: Function plot_confusion_matrix is deprecated; Function `plot_confusion_matrix` is deprecated in 1.0 and will be removed in 1.2. Use one of the class methods: ConfusionMatrixDisplay.from_predictions or ConfusionMatrixDisplay.from_estimator.\n",
      "  warnings.warn(msg, category=FutureWarning)\n"
     ]
    },
    {
     "data": {
      "image/png": "[encoded data removed]",
      "text/plain": [
       "<Figure size 432x288 with 2 Axes>"
      ]
     },
     "metadata": {
      "needs_background": "light"
     },
     "output_type": "display_data"
    }
   ],
   "source": [
    "clf_svc_o = SVC(gamma='auto', class_weight='balanced', probability=True)\n",
    "clf_svc_o.fit(X_train_over, y_train_over)\n",
    "\n",
    "y_pred = clf_svc_o.predict(X_test)\n",
    "\n",
    "acc_sc = accuracy_score(y_test, y_pred)\n",
    "print('Accuracy score: %.2f' % acc_sc)\n",
    "\n",
    "f1_sc = f1_score(y_test, y_pred, average='binary')\n",
    "print('F1 score: %.2f' % f1_sc)\n",
    "\n",
    "recall_sc = recall_score(y_test, y_pred, average='binary')\n",
    "print('Recall score: %.2f' % recall_sc)\n",
    "\n",
    "plot_confusion_matrix(clf_svc_o, X_test, y_test)  \n",
    "plt.show()"
   ]
  },
  {
   "cell_type": "code",
   "execution_count": 11,
   "id": "significant-effect",
   "metadata": {},
   "outputs": [
    {
     "name": "stdout",
     "output_type": "stream",
     "text": [
      "{'C': 10, 'gamma': 'auto', 'kernel': 'rbf'}\n",
      "0.9262746445203188\n",
      "              precision    recall  f1-score   support\n",
      "\n",
      "           0       0.96      0.89      0.92     10965\n",
      "           1       0.45      0.71      0.55      1392\n",
      "\n",
      "    accuracy                           0.87     12357\n",
      "   macro avg       0.71      0.80      0.74     12357\n",
      "weighted avg       0.90      0.87      0.88     12357\n",
      "\n"
     ]
    },
    {
     "name": "stderr",
     "output_type": "stream",
     "text": [
      "/home/marek/Documents/notebook/jupyterenv/lib/python3.8/site-packages/sklearn/utils/deprecation.py:87: FutureWarning: Function plot_confusion_matrix is deprecated; Function `plot_confusion_matrix` is deprecated in 1.0 and will be removed in 1.2. Use one of the class methods: ConfusionMatrixDisplay.from_predictions or ConfusionMatrixDisplay.from_estimator.\n",
      "  warnings.warn(msg, category=FutureWarning)\n"
     ]
    },
    {
     "data": {
      "image/png": "[encoded data removed]",
      "text/plain": [
       "<Figure size 432x288 with 2 Axes>"
      ]
     },
     "metadata": {
      "needs_background": "light"
     },
     "output_type": "display_data"
    }
   ],
   "source": [
    "from sklearn.model_selection import GridSearchCV\n",
    "\n",
    "parameters = {'C': [1, 10], 'kernel': ('linear', 'rbf'), 'gamma':('scale', 'auto')}\n",
    "svc = SVC()\n",
    "clf = GridSearchCV(estimator=svc, param_grid=parameters, scoring=f1, n_jobs = -1)\n",
    "clf.fit(X_train_over, y_train_over)\n",
    "\n",
    "print(clf.best_params_)\n",
    "print(clf.best_score_)\n",
    "\n",
    "best_clf_svc = clf.best_estimator_\n",
    "grid_predictions = best_clf_svc.predict(X_test)   \n",
    "print(classification_report(y_test, grid_predictions))\n",
    "\n",
    "plot_confusion_matrix(best_clf_svc, X_test, y_test)\n",
    "plt.show()"
   ]
  },
  {
   "cell_type": "markdown",
   "id": "bronze-dress",
   "metadata": {},
   "source": [
    "### Decision Tree oversampling"
   ]
  },
  {
   "cell_type": "code",
   "execution_count": 12,
   "id": "alert-neighborhood",
   "metadata": {},
   "outputs": [
    {
     "name": "stdout",
     "output_type": "stream",
     "text": [
      "Accuracy score: 0.88\n",
      "F1 score: 0.51\n",
      "Recall score: 0.55\n"
     ]
    },
    {
     "name": "stderr",
     "output_type": "stream",
     "text": [
      "/home/marek/Documents/notebook/jupyterenv/lib/python3.8/site-packages/sklearn/utils/deprecation.py:87: FutureWarning: Function plot_confusion_matrix is deprecated; Function `plot_confusion_matrix` is deprecated in 1.0 and will be removed in 1.2. Use one of the class methods: ConfusionMatrixDisplay.from_predictions or ConfusionMatrixDisplay.from_estimator.\n",
      "  warnings.warn(msg, category=FutureWarning)\n"
     ]
    },
    {
     "data": {
      "image/png": "[encoded data removed]",
      "text/plain": [
       "<Figure size 432x288 with 2 Axes>"
      ]
     },
     "metadata": {
      "needs_background": "light"
     },
     "output_type": "display_data"
    }
   ],
   "source": [
    "from sklearn.tree import DecisionTreeClassifier\n",
    "\n",
    "clf_dt_o = DecisionTreeClassifier(random_state=0, criterion='gini')\n",
    "clf_dt_o.fit(X_train_over, y_train_over)\n",
    "\n",
    "y_pred = clf_dt_o.predict(X_test)\n",
    "\n",
    "acc_sc = accuracy_score(y_test, y_pred)\n",
    "print('Accuracy score: %.2f' % acc_sc)\n",
    "\n",
    "f1_sc = f1_score(y_test, y_pred, average='binary')\n",
    "print('F1 score: %.2f' % f1_sc)\n",
    "\n",
    "recall_sc = recall_score(y_test, y_pred, average='binary')\n",
    "print('Recall score: %.2f' % recall_sc)\n",
    "\n",
    "plot_confusion_matrix(clf_dt_o, X_test, y_test)  \n",
    "plt.show()"
   ]
  },
  {
   "cell_type": "code",
   "execution_count": 13,
   "id": "hundred-fence",
   "metadata": {},
   "outputs": [
    {
     "name": "stdout",
     "output_type": "stream",
     "text": [
      "{'criterion': 'entropy', 'splitter': 'random'}\n",
      "0.9267634309521844\n",
      "              precision    recall  f1-score   support\n",
      "\n",
      "           0       0.94      0.92      0.93     10965\n",
      "           1       0.48      0.56      0.52      1392\n",
      "\n",
      "    accuracy                           0.88     12357\n",
      "   macro avg       0.71      0.74      0.72     12357\n",
      "weighted avg       0.89      0.88      0.89     12357\n",
      "\n"
     ]
    },
    {
     "name": "stderr",
     "output_type": "stream",
     "text": [
      "/home/marek/Documents/notebook/jupyterenv/lib/python3.8/site-packages/sklearn/utils/deprecation.py:87: FutureWarning: Function plot_confusion_matrix is deprecated; Function `plot_confusion_matrix` is deprecated in 1.0 and will be removed in 1.2. Use one of the class methods: ConfusionMatrixDisplay.from_predictions or ConfusionMatrixDisplay.from_estimator.\n",
      "  warnings.warn(msg, category=FutureWarning)\n"
     ]
    },
    {
     "data": {
      "image/png": "[encoded data removed]",
      "text/plain": [
       "<Figure size 432x288 with 2 Axes>"
      ]
     },
     "metadata": {
      "needs_background": "light"
     },
     "output_type": "display_data"
    }
   ],
   "source": [
    "parameters = {'criterion': ('gini', 'entropy'), 'splitter': ('best', 'random')}\n",
    "dt = DecisionTreeClassifier()\n",
    "clf = GridSearchCV(estimator=dt, param_grid=parameters, scoring=f1, n_jobs = -1)\n",
    "clf.fit(X_train_over, y_train_over)\n",
    "\n",
    "print(clf.best_params_)\n",
    "print(clf.best_score_)\n",
    "\n",
    "best_clf_df = clf.best_estimator_\n",
    "grid_predictions = best_clf_df.predict(X_test)    \n",
    "print(classification_report(y_test, grid_predictions))\n",
    "\n",
    "plot_confusion_matrix(best_clf_df, X_test, y_test)\n",
    "plt.show()"
   ]
  },
  {
   "cell_type": "markdown",
   "id": "friendly-synthesis",
   "metadata": {},
   "source": [
    "### Logistic Regression"
   ]
  },
  {
   "cell_type": "code",
   "execution_count": 14,
   "id": "noble-protein",
   "metadata": {},
   "outputs": [
    {
     "name": "stdout",
     "output_type": "stream",
     "text": [
      "Accuracy score: 0.86\n",
      "F1 score: 0.58\n",
      "Recall score: 0.86\n"
     ]
    },
    {
     "name": "stderr",
     "output_type": "stream",
     "text": [
      "/home/marek/Documents/notebook/jupyterenv/lib/python3.8/site-packages/sklearn/utils/deprecation.py:87: FutureWarning: Function plot_confusion_matrix is deprecated; Function `plot_confusion_matrix` is deprecated in 1.0 and will be removed in 1.2. Use one of the class methods: ConfusionMatrixDisplay.from_predictions or ConfusionMatrixDisplay.from_estimator.\n",
      "  warnings.warn(msg, category=FutureWarning)\n"
     ]
    },
    {
     "data": {
      "image/png": "[encoded data removed]",
      "text/plain": [
       "<Figure size 432x288 with 2 Axes>"
      ]
     },
     "metadata": {
      "needs_background": "light"
     },
     "output_type": "display_data"
    }
   ],
   "source": [
    "from sklearn.linear_model import LogisticRegression\n",
    "\n",
    "clf_lr_o = LogisticRegression(random_state=0)\n",
    "clf_lr_o.fit(X_train_over, y_train_over)\n",
    "\n",
    "y_pred = clf_lr_o.predict(X_test)\n",
    "\n",
    "acc_sc = accuracy_score(y_test, y_pred)\n",
    "print('Accuracy score: %.2f' % acc_sc)\n",
    "\n",
    "f1_sc = f1_score(y_test, y_pred, average='binary')\n",
    "print('F1 score: %.2f' % f1_sc)\n",
    "\n",
    "recall_sc = recall_score(y_test, y_pred, average='binary')\n",
    "print('Recall score: %.2f' % recall_sc)\n",
    "\n",
    "plot_confusion_matrix(clf_lr_o, X_test, y_test)  \n",
    "plt.show()"
   ]
  },
  {
   "cell_type": "code",
   "execution_count": 15,
   "id": "robust-terrain",
   "metadata": {},
   "outputs": [
    {
     "name": "stdout",
     "output_type": "stream",
     "text": [
      "{'C': 1, 'penalty': 'none'}\n",
      "0.868398189582771\n",
      "              precision    recall  f1-score   support\n",
      "\n",
      "           0       0.98      0.86      0.91     10965\n",
      "           1       0.43      0.86      0.58      1392\n",
      "\n",
      "    accuracy                           0.86     12357\n",
      "   macro avg       0.71      0.86      0.75     12357\n",
      "weighted avg       0.92      0.86      0.88     12357\n",
      "\n"
     ]
    },
    {
     "name": "stderr",
     "output_type": "stream",
     "text": [
      "/home/marek/Documents/notebook/jupyterenv/lib/python3.8/site-packages/sklearn/utils/deprecation.py:87: FutureWarning: Function plot_confusion_matrix is deprecated; Function `plot_confusion_matrix` is deprecated in 1.0 and will be removed in 1.2. Use one of the class methods: ConfusionMatrixDisplay.from_predictions or ConfusionMatrixDisplay.from_estimator.\n",
      "  warnings.warn(msg, category=FutureWarning)\n"
     ]
    },
    {
     "data": {
      "image/png": "[encoded data removed]",
      "text/plain": [
       "<Figure size 432x288 with 2 Axes>"
      ]
     },
     "metadata": {
      "needs_background": "light"
     },
     "output_type": "display_data"
    }
   ],
   "source": [
    "parameters = {'penalty': ('l2', 'none'), 'C': [1, 10]}\n",
    "lr = LogisticRegression()\n",
    "clf = GridSearchCV(estimator=lr, param_grid=parameters, scoring='f1', n_jobs = -1)\n",
    "clf.fit(X_train_over, y_train_over)\n",
    "\n",
    "print(clf.best_params_)\n",
    "print(clf.best_score_)\n",
    "\n",
    "best_clf_lr = clf.best_estimator_\n",
    "grid_predictions = best_clf_lr.predict(X_test)    \n",
    "print(classification_report(y_test, grid_predictions))\n",
    "\n",
    "plot_confusion_matrix(best_clf_lr, X_test, y_test)\n",
    "plt.show()"
   ]
  },
  {
   "cell_type": "code",
   "execution_count": 16,
   "id": "outside-pantyhose",
   "metadata": {},
   "outputs": [
    {
     "name": "stdout",
     "output_type": "stream",
     "text": [
      "Accuracy score: 0.85\n",
      "F1 score: 0.58\n",
      "Recall score: 0.92\n"
     ]
    },
    {
     "name": "stderr",
     "output_type": "stream",
     "text": [
      "/home/marek/Documents/notebook/jupyterenv/lib/python3.8/site-packages/sklearn/utils/deprecation.py:87: FutureWarning: Function plot_confusion_matrix is deprecated; Function `plot_confusion_matrix` is deprecated in 1.0 and will be removed in 1.2. Use one of the class methods: ConfusionMatrixDisplay.from_predictions or ConfusionMatrixDisplay.from_estimator.\n",
      "  warnings.warn(msg, category=FutureWarning)\n"
     ]
    },
    {
     "data": {
      "image/png": "[encoded data removed]",
      "text/plain": [
       "<Figure size 432x288 with 2 Axes>"
      ]
     },
     "metadata": {
      "needs_background": "light"
     },
     "output_type": "display_data"
    }
   ],
   "source": [
    "from sklearn.ensemble import RandomForestClassifier\n",
    "\n",
    "clf_rand_forest = RandomForestClassifier(random_state=0)\n",
    "clf_rand_forest.fit(X_train_under, y_train_under)\n",
    "\n",
    "y_pred = clf_rand_forest.predict(X_test)\n",
    "\n",
    "acc_sc = accuracy_score(y_test, y_pred)\n",
    "print('Accuracy score: %.2f' % acc_sc)\n",
    "\n",
    "f1_sc = f1_score(y_test, y_pred, average='binary')\n",
    "print('F1 score: %.2f' % f1_sc)\n",
    "\n",
    "recall_sc = recall_score(y_test, y_pred, average='binary')\n",
    "print('Recall score: %.2f' % recall_sc)\n",
    "\n",
    "plot_confusion_matrix(clf_rand_forest, X_test, y_test)  \n",
    "plt.show()"
   ]
  },
  {
   "cell_type": "code",
   "execution_count": 17,
   "id": "eligible-trout",
   "metadata": {},
   "outputs": [
    {
     "name": "stdout",
     "output_type": "stream",
     "text": [
      "{'criterion': 'entropy', 'n_estimators': 150}\n",
      "0.8868762166155106\n",
      "              precision    recall  f1-score   support\n",
      "\n",
      "           0       0.99      0.84      0.91     10965\n",
      "           1       0.43      0.93      0.59      1392\n",
      "\n",
      "    accuracy                           0.85     12357\n",
      "   macro avg       0.71      0.88      0.75     12357\n",
      "weighted avg       0.93      0.85      0.87     12357\n",
      "\n"
     ]
    },
    {
     "name": "stderr",
     "output_type": "stream",
     "text": [
      "/home/marek/Documents/notebook/jupyterenv/lib/python3.8/site-packages/sklearn/utils/deprecation.py:87: FutureWarning: Function plot_confusion_matrix is deprecated; Function `plot_confusion_matrix` is deprecated in 1.0 and will be removed in 1.2. Use one of the class methods: ConfusionMatrixDisplay.from_predictions or ConfusionMatrixDisplay.from_estimator.\n",
      "  warnings.warn(msg, category=FutureWarning)\n"
     ]
    },
    {
     "data": {
      "image/png": "[encoded data removed]",
      "text/plain": [
       "<Figure size 432x288 with 2 Axes>"
      ]
     },
     "metadata": {
      "needs_background": "light"
     },
     "output_type": "display_data"
    }
   ],
   "source": [
    "parameters = {'criterion': ('gini', 'entropy'), 'n_estimators': [50, 100, 150] }\n",
    "rf = RandomForestClassifier()\n",
    "clf = GridSearchCV(estimator=rf, param_grid=parameters, scoring=f1, n_jobs = -1)\n",
    "clf.fit(X_train_under, y_train_under)\n",
    "\n",
    "print(clf.best_params_)\n",
    "print(clf.best_score_)\n",
    "\n",
    "best_clf_rf = clf.best_estimator_\n",
    "grid_predictions = best_clf_rf.predict(X_test)    \n",
    "print(classification_report(y_test, grid_predictions))\n",
    "\n",
    "plot_confusion_matrix(best_clf_rf, X_test, y_test)  \n",
    "plt.show()"
   ]
  },
  {
   "cell_type": "code",
   "execution_count": 18,
   "id": "altered-there",
   "metadata": {},
   "outputs": [
    {
     "name": "stdout",
     "output_type": "stream",
     "text": [
      "{'criterion': 'entropy', 'n_estimators': 150}\n",
      "0.9552860637318185\n",
      "              precision    recall  f1-score   support\n",
      "\n",
      "           0       0.95      0.95      0.95     10965\n",
      "           1       0.60      0.59      0.59      1392\n",
      "\n",
      "    accuracy                           0.91     12357\n",
      "   macro avg       0.77      0.77      0.77     12357\n",
      "weighted avg       0.91      0.91      0.91     12357\n",
      "\n"
     ]
    },
    {
     "name": "stderr",
     "output_type": "stream",
     "text": [
      "/home/marek/Documents/notebook/jupyterenv/lib/python3.8/site-packages/sklearn/utils/deprecation.py:87: FutureWarning: Function plot_confusion_matrix is deprecated; Function `plot_confusion_matrix` is deprecated in 1.0 and will be removed in 1.2. Use one of the class methods: ConfusionMatrixDisplay.from_predictions or ConfusionMatrixDisplay.from_estimator.\n",
      "  warnings.warn(msg, category=FutureWarning)\n"
     ]
    },
    {
     "data": {
      "image/png": "[encoded data removed]",
      "text/plain": [
       "<Figure size 432x288 with 2 Axes>"
      ]
     },
     "metadata": {
      "needs_background": "light"
     },
     "output_type": "display_data"
    }
   ],
   "source": [
    "clf = GridSearchCV(estimator=rf, param_grid=parameters, scoring=recall, n_jobs = -1)\n",
    "clf.fit(X_train_over, y_train_over)\n",
    "\n",
    "print(clf.best_params_)\n",
    "print(clf.best_score_)\n",
    "\n",
    "best_clf_rf2 = clf.best_estimator_\n",
    "grid_predictions = best_clf_rf2.predict(X_test)    \n",
    "print(classification_report(y_test, grid_predictions))\n",
    "\n",
    "plot_confusion_matrix(best_clf_rf2, X_test, y_test)  \n",
    "plt.show()"
   ]
  },
  {
   "cell_type": "code",
   "execution_count": 19,
   "id": "agreed-dating",
   "metadata": {},
   "outputs": [
    {
     "name": "stderr",
     "output_type": "stream",
     "text": [
      "/home/marek/Documents/notebook/jupyterenv/lib/python3.8/site-packages/sklearn/linear_model/_logistic.py:1483: UserWarning: Setting penalty='none' will ignore the C and l1_ratio parameters\n",
      "  warnings.warn(\n",
      "/home/marek/Documents/notebook/jupyterenv/lib/python3.8/site-packages/sklearn/linear_model/_logistic.py:1483: UserWarning: Setting penalty='none' will ignore the C and l1_ratio parameters\n",
      "  warnings.warn(\n",
      "/home/marek/Documents/notebook/jupyterenv/lib/python3.8/site-packages/sklearn/linear_model/_logistic.py:1483: UserWarning: Setting penalty='none' will ignore the C and l1_ratio parameters\n",
      "  warnings.warn(\n",
      "/home/marek/Documents/notebook/jupyterenv/lib/python3.8/site-packages/sklearn/linear_model/_logistic.py:1483: UserWarning: Setting penalty='none' will ignore the C and l1_ratio parameters\n",
      "  warnings.warn(\n",
      "/home/marek/Documents/notebook/jupyterenv/lib/python3.8/site-packages/sklearn/linear_model/_logistic.py:1483: UserWarning: Setting penalty='none' will ignore the C and l1_ratio parameters\n",
      "  warnings.warn(\n"
     ]
    },
    {
     "name": "stdout",
     "output_type": "stream",
     "text": [
      "Accuracy score: 0.89\n",
      "F1 score: 0.61\n",
      "Recall score: 0.78\n"
     ]
    },
    {
     "name": "stderr",
     "output_type": "stream",
     "text": [
      "/home/marek/Documents/notebook/jupyterenv/lib/python3.8/site-packages/sklearn/utils/deprecation.py:87: FutureWarning: Function plot_confusion_matrix is deprecated; Function `plot_confusion_matrix` is deprecated in 1.0 and will be removed in 1.2. Use one of the class methods: ConfusionMatrixDisplay.from_predictions or ConfusionMatrixDisplay.from_estimator.\n",
      "  warnings.warn(msg, category=FutureWarning)\n"
     ]
    },
    {
     "data": {
      "image/png": "[encoded data removed]",
      "text/plain": [
       "<Figure size 432x288 with 2 Axes>"
      ]
     },
     "metadata": {
      "needs_background": "light"
     },
     "output_type": "display_data"
    }
   ],
   "source": [
    "from sklearn.ensemble import VotingClassifier\n",
    "\n",
    "eclf_over_soft = VotingClassifier(estimators=[\n",
    "    ('svc' ,clf_svc_o), ('dt' ,clf_dt_o), ('lr' , clf_lr_o)], voting='soft')\n",
    "\n",
    "eclf_over_soft.fit(X_train_over, y_train_over)\n",
    "\n",
    "y_pred = eclf_over_soft.predict(X_test)\n",
    "\n",
    "acc_sc = accuracy_score(y_test, y_pred)\n",
    "print('Accuracy score: %.2f' % acc_sc)\n",
    "\n",
    "f1_sc = f1_score(y_test, y_pred, average='binary')\n",
    "print('F1 score: %.2f' % f1_sc)\n",
    "\n",
    "recall_sc = recall_score(y_test, y_pred, average='binary')\n",
    "print('Recall score: %.2f' % recall_sc)\n",
    "\n",
    "plot_confusion_matrix(eclf_over_soft, X_test, y_test)  \n",
    "plt.show()"
   ]
  },
  {
   "cell_type": "code",
   "execution_count": 21,
   "id": "removable-variable",
   "metadata": {},
   "outputs": [
    {
     "name": "stderr",
     "output_type": "stream",
     "text": [
      "/home/marek/Documents/notebook/jupyterenv/lib/python3.8/site-packages/sklearn/linear_model/_logistic.py:1483: UserWarning: Setting penalty='none' will ignore the C and l1_ratio parameters\n",
      "  warnings.warn(\n",
      "/home/marek/Documents/notebook/jupyterenv/lib/python3.8/site-packages/sklearn/linear_model/_logistic.py:1483: UserWarning: Setting penalty='none' will ignore the C and l1_ratio parameters\n",
      "  warnings.warn(\n",
      "/home/marek/Documents/notebook/jupyterenv/lib/python3.8/site-packages/sklearn/linear_model/_logistic.py:1483: UserWarning: Setting penalty='none' will ignore the C and l1_ratio parameters\n",
      "  warnings.warn(\n",
      "/home/marek/Documents/notebook/jupyterenv/lib/python3.8/site-packages/sklearn/linear_model/_logistic.py:1483: UserWarning: Setting penalty='none' will ignore the C and l1_ratio parameters\n",
      "  warnings.warn(\n",
      "/home/marek/Documents/notebook/jupyterenv/lib/python3.8/site-packages/sklearn/linear_model/_logistic.py:1483: UserWarning: Setting penalty='none' will ignore the C and l1_ratio parameters\n",
      "  warnings.warn(\n",
      "/home/marek/Documents/notebook/jupyterenv/lib/python3.8/site-packages/sklearn/linear_model/_logistic.py:1483: UserWarning: Setting penalty='none' will ignore the C and l1_ratio parameters\n",
      "  warnings.warn(\n",
      "/home/marek/Documents/notebook/jupyterenv/lib/python3.8/site-packages/sklearn/linear_model/_logistic.py:1483: UserWarning: Setting penalty='none' will ignore the C and l1_ratio parameters\n",
      "  warnings.warn(\n",
      "/home/marek/Documents/notebook/jupyterenv/lib/python3.8/site-packages/sklearn/linear_model/_logistic.py:1483: UserWarning: Setting penalty='none' will ignore the C and l1_ratio parameters\n",
      "  warnings.warn(\n",
      "/home/marek/Documents/notebook/jupyterenv/lib/python3.8/site-packages/sklearn/linear_model/_logistic.py:1483: UserWarning: Setting penalty='none' will ignore the C and l1_ratio parameters\n",
      "  warnings.warn(\n",
      "/home/marek/Documents/notebook/jupyterenv/lib/python3.8/site-packages/sklearn/linear_model/_logistic.py:1483: UserWarning: Setting penalty='none' will ignore the C and l1_ratio parameters\n",
      "  warnings.warn(\n",
      "/home/marek/Documents/notebook/jupyterenv/lib/python3.8/site-packages/sklearn/linear_model/_logistic.py:1483: UserWarning: Setting penalty='none' will ignore the C and l1_ratio parameters\n",
      "  warnings.warn(\n",
      "/home/marek/Documents/notebook/jupyterenv/lib/python3.8/site-packages/sklearn/linear_model/_logistic.py:1483: UserWarning: Setting penalty='none' will ignore the C and l1_ratio parameters\n",
      "  warnings.warn(\n",
      "/home/marek/Documents/notebook/jupyterenv/lib/python3.8/site-packages/sklearn/linear_model/_logistic.py:1483: UserWarning: Setting penalty='none' will ignore the C and l1_ratio parameters\n",
      "  warnings.warn(\n",
      "/home/marek/Documents/notebook/jupyterenv/lib/python3.8/site-packages/sklearn/linear_model/_logistic.py:1483: UserWarning: Setting penalty='none' will ignore the C and l1_ratio parameters\n",
      "  warnings.warn(\n",
      "/home/marek/Documents/notebook/jupyterenv/lib/python3.8/site-packages/sklearn/linear_model/_logistic.py:1483: UserWarning: Setting penalty='none' will ignore the C and l1_ratio parameters\n",
      "  warnings.warn(\n",
      "/home/marek/Documents/notebook/jupyterenv/lib/python3.8/site-packages/sklearn/linear_model/_logistic.py:1483: UserWarning: Setting penalty='none' will ignore the C and l1_ratio parameters\n",
      "  warnings.warn(\n",
      "/home/marek/Documents/notebook/jupyterenv/lib/python3.8/site-packages/sklearn/linear_model/_logistic.py:1483: UserWarning: Setting penalty='none' will ignore the C and l1_ratio parameters\n",
      "  warnings.warn(\n",
      "/home/marek/Documents/notebook/jupyterenv/lib/python3.8/site-packages/sklearn/linear_model/_logistic.py:1483: UserWarning: Setting penalty='none' will ignore the C and l1_ratio parameters\n",
      "  warnings.warn(\n",
      "/home/marek/Documents/notebook/jupyterenv/lib/python3.8/site-packages/sklearn/linear_model/_logistic.py:1483: UserWarning: Setting penalty='none' will ignore the C and l1_ratio parameters\n",
      "  warnings.warn(\n",
      "/home/marek/Documents/notebook/jupyterenv/lib/python3.8/site-packages/sklearn/linear_model/_logistic.py:1483: UserWarning: Setting penalty='none' will ignore the C and l1_ratio parameters\n",
      "  warnings.warn(\n",
      "/home/marek/Documents/notebook/jupyterenv/lib/python3.8/site-packages/sklearn/linear_model/_logistic.py:1483: UserWarning: Setting penalty='none' will ignore the C and l1_ratio parameters\n",
      "  warnings.warn(\n",
      "/home/marek/Documents/notebook/jupyterenv/lib/python3.8/site-packages/sklearn/linear_model/_logistic.py:1483: UserWarning: Setting penalty='none' will ignore the C and l1_ratio parameters\n",
      "  warnings.warn(\n",
      "/home/marek/Documents/notebook/jupyterenv/lib/python3.8/site-packages/sklearn/linear_model/_logistic.py:1483: UserWarning: Setting penalty='none' will ignore the C and l1_ratio parameters\n",
      "  warnings.warn(\n",
      "/home/marek/Documents/notebook/jupyterenv/lib/python3.8/site-packages/sklearn/linear_model/_logistic.py:1483: UserWarning: Setting penalty='none' will ignore the C and l1_ratio parameters\n",
      "  warnings.warn(\n",
      "/home/marek/Documents/notebook/jupyterenv/lib/python3.8/site-packages/sklearn/linear_model/_logistic.py:1483: UserWarning: Setting penalty='none' will ignore the C and l1_ratio parameters\n",
      "  warnings.warn(\n",
      "/home/marek/Documents/notebook/jupyterenv/lib/python3.8/site-packages/sklearn/linear_model/_logistic.py:1483: UserWarning: Setting penalty='none' will ignore the C and l1_ratio parameters\n",
      "  warnings.warn(\n",
      "/home/marek/Documents/notebook/jupyterenv/lib/python3.8/site-packages/sklearn/linear_model/_logistic.py:1483: UserWarning: Setting penalty='none' will ignore the C and l1_ratio parameters\n",
      "  warnings.warn(\n",
      "/home/marek/Documents/notebook/jupyterenv/lib/python3.8/site-packages/sklearn/linear_model/_logistic.py:1483: UserWarning: Setting penalty='none' will ignore the C and l1_ratio parameters\n",
      "  warnings.warn(\n",
      "/home/marek/Documents/notebook/jupyterenv/lib/python3.8/site-packages/sklearn/linear_model/_logistic.py:1483: UserWarning: Setting penalty='none' will ignore the C and l1_ratio parameters\n",
      "  warnings.warn(\n",
      "/home/marek/Documents/notebook/jupyterenv/lib/python3.8/site-packages/sklearn/linear_model/_logistic.py:1483: UserWarning: Setting penalty='none' will ignore the C and l1_ratio parameters\n",
      "  warnings.warn(\n",
      "/home/marek/Documents/notebook/jupyterenv/lib/python3.8/site-packages/sklearn/linear_model/_logistic.py:1483: UserWarning: Setting penalty='none' will ignore the C and l1_ratio parameters\n",
      "  warnings.warn(\n",
      "/home/marek/Documents/notebook/jupyterenv/lib/python3.8/site-packages/sklearn/linear_model/_logistic.py:1483: UserWarning: Setting penalty='none' will ignore the C and l1_ratio parameters\n",
      "  warnings.warn(\n",
      "/home/marek/Documents/notebook/jupyterenv/lib/python3.8/site-packages/sklearn/linear_model/_logistic.py:1483: UserWarning: Setting penalty='none' will ignore the C and l1_ratio parameters\n",
      "  warnings.warn(\n",
      "/home/marek/Documents/notebook/jupyterenv/lib/python3.8/site-packages/sklearn/linear_model/_logistic.py:1483: UserWarning: Setting penalty='none' will ignore the C and l1_ratio parameters\n",
      "  warnings.warn(\n",
      "/home/marek/Documents/notebook/jupyterenv/lib/python3.8/site-packages/sklearn/linear_model/_logistic.py:1483: UserWarning: Setting penalty='none' will ignore the C and l1_ratio parameters\n",
      "  warnings.warn(\n",
      "/home/marek/Documents/notebook/jupyterenv/lib/python3.8/site-packages/sklearn/linear_model/_logistic.py:1483: UserWarning: Setting penalty='none' will ignore the C and l1_ratio parameters\n",
      "  warnings.warn(\n",
      "/home/marek/Documents/notebook/jupyterenv/lib/python3.8/site-packages/sklearn/linear_model/_logistic.py:1483: UserWarning: Setting penalty='none' will ignore the C and l1_ratio parameters\n",
      "  warnings.warn(\n",
      "/home/marek/Documents/notebook/jupyterenv/lib/python3.8/site-packages/sklearn/linear_model/_logistic.py:1483: UserWarning: Setting penalty='none' will ignore the C and l1_ratio parameters\n",
      "  warnings.warn(\n",
      "/home/marek/Documents/notebook/jupyterenv/lib/python3.8/site-packages/sklearn/linear_model/_logistic.py:1483: UserWarning: Setting penalty='none' will ignore the C and l1_ratio parameters\n",
      "  warnings.warn(\n",
      "/home/marek/Documents/notebook/jupyterenv/lib/python3.8/site-packages/sklearn/linear_model/_logistic.py:1483: UserWarning: Setting penalty='none' will ignore the C and l1_ratio parameters\n",
      "  warnings.warn(\n"
     ]
    },
    {
     "name": "stdout",
     "output_type": "stream",
     "text": [
      "{'dt__criterion': 'entropy', 'lr__C': 1, 'lr__penalty': 'none', 'svc__C': 10, 'svc__gamma': 'auto'}\n",
      "0.932409377515178\n",
      "              precision    recall  f1-score   support\n",
      "\n",
      "           0       0.96      0.91      0.94     10965\n",
      "           1       0.51      0.72      0.60      1392\n",
      "\n",
      "    accuracy                           0.89     12357\n",
      "   macro avg       0.74      0.82      0.77     12357\n",
      "weighted avg       0.91      0.89      0.90     12357\n",
      "\n"
     ]
    },
    {
     "name": "stderr",
     "output_type": "stream",
     "text": [
      "/home/marek/Documents/notebook/jupyterenv/lib/python3.8/site-packages/sklearn/utils/deprecation.py:87: FutureWarning: Function plot_confusion_matrix is deprecated; Function `plot_confusion_matrix` is deprecated in 1.0 and will be removed in 1.2. Use one of the class methods: ConfusionMatrixDisplay.from_predictions or ConfusionMatrixDisplay.from_estimator.\n",
      "  warnings.warn(msg, category=FutureWarning)\n"
     ]
    },
    {
     "data": {
      "image/png": "[encoded data removed]",
      "text/plain": [
       "<Figure size 432x288 with 2 Axes>"
      ]
     },
     "metadata": {
      "needs_background": "light"
     },
     "output_type": "display_data"
    }
   ],
   "source": [
    "clf = VotingClassifier(estimators=[\n",
    "    ('svc' , SVC(probability=True)), ('dt' ,DecisionTreeClassifier()), ('lr' , LogisticRegression())], voting='soft')\n",
    "parameters = {'dt__criterion': ('gini', 'entropy'), \n",
    "              'lr__penalty': ('l2', 'none'), 'lr__C': [1, 10],\n",
    "              'svc__C': [1, 10], 'svc__gamma':('scale', 'auto')\n",
    "             }\n",
    "clf = GridSearchCV(estimator=clf, param_grid=parameters, scoring=f1, n_jobs = -1)\n",
    "clf.fit(X_train_over, y_train_over)\n",
    "\n",
    "print(clf.best_params_)\n",
    "print(clf.best_score_)\n",
    "\n",
    "best_clf_vc = clf.best_estimator_\n",
    "grid_predictions = best_clf_vc.predict(X_test)    \n",
    "print(classification_report(y_test, grid_predictions))\n",
    "\n",
    "plot_confusion_matrix(best_clf_vc, X_test, y_test)  \n",
    "plt.show()"
   ]
  }
 ],
 "metadata": {
  "kernelspec": {
   "display_name": "Python 3 (ipykernel)",
   "language": "python",
   "name": "python3"
  },
  "language_info": {
   "codemirror_mode": {
    "name": "ipython",
    "version": 3
   },
   "file_extension": ".py",
   "mimetype": "text/x-python",
   "name": "python",
   "nbconvert_exporter": "python",
   "pygments_lexer": "ipython3",
   "version": "3.8.10"
  }
 },
 "nbformat": 4,
 "nbformat_minor": 5
}
