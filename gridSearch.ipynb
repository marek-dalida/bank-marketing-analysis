{
 "cells": [
  {
   "cell_type": "code",
   "execution_count": 1,
   "id": "cleared-victim",
   "metadata": {},
   "outputs": [],
   "source": [
    "import pandas as pd\n",
    "\n",
    "data = pd.read_csv('bank-additional-full.csv', sep=';')"
   ]
  },
  {
   "cell_type": "code",
   "execution_count": 2,
   "id": "apparent-piece",
   "metadata": {},
   "outputs": [],
   "source": [
    "result = data['y']\n",
    "data.drop(['y'] ,axis=1, inplace=True)\n",
    "result = result.map(lambda x: 1 if x == 'yes' else 0)\n",
    "result.value_counts()\n",
    "\n",
    "data['pdays'] = data['pdays'].map(lambda x: 0 if x == 999 else x)\n",
    "\n",
    "pd.options.mode.chained_assignment = None\n",
    "data['age'][1000:2000] = None\n",
    "data['duration'][2000:3000] = None\n",
    "data['pdays'][3000:4000] = None\n",
    "data['previous'][4000:5000] = None\n",
    "data['emp.var.rate'][10000:11000] = None\n",
    "data['cons.price.idx'][20000:21000] = None\n",
    "data['cons.conf.idx'][30000:31000] = None\n",
    "data['euribor3m'][39000:40000] = None\n",
    "data['nr.employed'][40000:41000] = None\n",
    "\n",
    "#mean\n",
    "data['age'][1000:2000] = data['age'].mean()\n",
    "data['duration'][2000:3000] = data['duration'].mean()\n",
    "data['pdays'][3000:4000] = data['pdays'].mean()\n",
    "data['previous'][4000:5000] = data['previous'].mean()\n",
    "data['emp.var.rate'][10000:11000] = data['emp.var.rate'].mean()\n",
    "data['cons.price.idx'][20000:21000] = data['cons.price.idx'].mean()\n",
    "data['cons.conf.idx'][30000:31000] = data['cons.conf.idx'].mean()\n",
    "data['euribor3m'][39000:40000] = data['euribor3m'].mean()\n",
    "data['nr.employed'][40000:41000] = data['nr.employed'].mean()"
   ]
  },
  {
   "cell_type": "code",
   "execution_count": 3,
   "id": "through-cambridge",
   "metadata": {},
   "outputs": [],
   "source": [
    "from sklearn.preprocessing import OneHotEncoder\n",
    "# creating instance of one-hot-encoder\n",
    "enc = OneHotEncoder()\n",
    "\n",
    "#create dummy variables for job\n",
    "enc_df = pd.DataFrame(enc.fit_transform(data[['job']]).toarray())\n",
    "\n",
    "enc_df.columns = enc.get_feature_names(['job'])\n",
    "\n",
    "data.drop(['job'] ,axis=1, inplace=True)\n",
    "\n",
    "data = pd.concat([data, enc_df ], axis=1)\n",
    "\n",
    "#create dummy variables for marital\n",
    "enc_df = pd.DataFrame(enc.fit_transform(data[['marital']]).toarray())\n",
    "\n",
    "enc_df.columns = enc.get_feature_names(['marital'])\n",
    "\n",
    "data.drop(['marital'] ,axis=1, inplace=True)\n",
    "\n",
    "data = pd.concat([data, enc_df ], axis=1)\n",
    "\n",
    "#create dummy variables for education\n",
    "enc_df = pd.DataFrame(enc.fit_transform(data[['education']]).toarray())\n",
    "\n",
    "enc_df.columns = enc.get_feature_names(['eductation'])\n",
    "\n",
    "data.drop(['education'] ,axis=1, inplace=True)\n",
    "\n",
    "data = pd.concat([data, enc_df ], axis=1)\n",
    "\n",
    "#create dummy variables for default\n",
    "enc_df = pd.DataFrame(enc.fit_transform(data[['default']]).toarray())\n",
    "\n",
    "enc_df.columns = enc.get_feature_names(['default'])\n",
    "\n",
    "data.drop(['default'] ,axis=1, inplace=True)\n",
    "\n",
    "data = pd.concat([data, enc_df ], axis=1)\n",
    "\n",
    "#create dummy variables for housing\n",
    "enc_df = pd.DataFrame(enc.fit_transform(data[['housing']]).toarray())\n",
    "\n",
    "enc_df.columns = enc.get_feature_names(['housing'])\n",
    "\n",
    "data.drop(['housing'] ,axis=1, inplace=True)\n",
    "\n",
    "data = pd.concat([data, enc_df ], axis=1)\n",
    "\n",
    "#create dummy variables for loan\n",
    "enc_df = pd.DataFrame(enc.fit_transform(data[['loan']]).toarray())\n",
    "\n",
    "enc_df.columns = enc.get_feature_names(['loan'])\n",
    "\n",
    "data.drop(['loan'] ,axis=1, inplace=True)\n",
    "\n",
    "data = pd.concat([data, enc_df ], axis=1)\n",
    "\n",
    "#create dummy variables for contact\n",
    "enc_df = pd.DataFrame(enc.fit_transform(data[['contact']]).toarray())\n",
    "\n",
    "enc_df.columns = enc.get_feature_names(['contact'])\n",
    "\n",
    "data.drop(['contact'] ,axis=1, inplace=True)\n",
    "\n",
    "data = pd.concat([data, enc_df ], axis=1)\n",
    "\n",
    "#create dummy variables for month\n",
    "enc_df = pd.DataFrame(enc.fit_transform(data[['month']]).toarray())\n",
    "\n",
    "enc_df.columns = enc.get_feature_names(['month'])\n",
    "\n",
    "data.drop(['month'] ,axis=1, inplace=True)\n",
    "\n",
    "# data = pd.concat([data, enc_df ], axis=1)\n",
    "# usuwamy\n",
    "\n",
    "#create dummy variables for day_of_week\n",
    "enc_df = pd.DataFrame(enc.fit_transform(data[['day_of_week']]).toarray())\n",
    "\n",
    "enc_df.columns = enc.get_feature_names(['day_of_week'])\n",
    "\n",
    "data.drop(['day_of_week'] ,axis=1, inplace=True)\n",
    "\n",
    "# data = pd.concat([data, enc_df ], axis=1\n",
    "# usuwamy\n",
    "\n",
    "#create dummy variables for day_of_week\n",
    "enc_df = pd.DataFrame(enc.fit_transform(data[['poutcome']]).toarray())\n",
    "\n",
    "enc_df.columns = enc.get_feature_names(['poutcome'])\n",
    "\n",
    "data.drop(['poutcome'] ,axis=1, inplace=True)\n",
    "\n",
    "data = pd.concat([data, enc_df ], axis=1)"
   ]
  },
  {
   "cell_type": "code",
   "execution_count": 4,
   "id": "intensive-logistics",
   "metadata": {},
   "outputs": [],
   "source": [
    "data.drop(['loan_no'] ,axis=1, inplace=True)\n",
    "data.drop(['loan_yes'] ,axis=1, inplace=True)\n",
    "data.drop(['cons.conf.idx'] ,axis=1, inplace=True)\n",
    "data.drop(['eductation_unknown'] ,axis=1, inplace=True)"
   ]
  },
  {
   "cell_type": "code",
   "execution_count": 5,
   "id": "honest-leisure",
   "metadata": {},
   "outputs": [],
   "source": [
    "from sklearn.preprocessing import StandardScaler\n",
    "from sklearn.model_selection import train_test_split\n",
    "scaler = StandardScaler()\n",
    "\n",
    "dataset_scaled = pd.DataFrame(scaler.fit_transform(data.values), columns=data.columns, index=data.index)\n",
    "X_train, X_test, y_train, y_test = train_test_split(dataset_scaled, result, test_size = 0.30, stratify=result)"
   ]
  },
  {
   "cell_type": "code",
   "execution_count": 6,
   "id": "presidential-vegetation",
   "metadata": {},
   "outputs": [],
   "source": [
    "from imblearn.over_sampling import SMOTE\n",
    "from imblearn.under_sampling import RandomUnderSampler\n",
    "\n",
    "oversample = SMOTE()\n",
    "X_train_over, y_train_over = oversample.fit_resample(X_train, y_train)\n",
    "\n",
    "undersample = RandomUnderSampler(sampling_strategy='majority')\n",
    "X_train_under, y_train_under = undersample.fit_resample(X_train, y_train)"
   ]
  },
  {
   "cell_type": "code",
   "execution_count": 7,
   "id": "pleasant-holmes",
   "metadata": {},
   "outputs": [
    {
     "name": "stdout",
     "output_type": "stream",
     "text": [
      "StratifiedKFold(n_splits=3, random_state=1, shuffle=True)\n"
     ]
    }
   ],
   "source": [
    "from sklearn.model_selection import StratifiedKFold\n",
    "\n",
    "X = dataset_scaled\n",
    "y = result\n",
    "\n",
    "skf = StratifiedKFold(n_splits=3, shuffle=True, random_state=1)\n",
    "skf.get_n_splits(X, y)\n",
    "\n",
    "print(skf)"
   ]
  },
  {
   "cell_type": "code",
   "execution_count": 8,
   "id": "acoustic-supervisor",
   "metadata": {},
   "outputs": [],
   "source": [
    "from sklearn.metrics import accuracy_score\n",
    "from sklearn.metrics import f1_score\n",
    "from sklearn.metrics import recall_score\n",
    "import matplotlib.pyplot as plt\n",
    "from sklearn.metrics import plot_confusion_matrix\n",
    "from sklearn.svm import SVC\n",
    "from sklearn.metrics import classification_report"
   ]
  },
  {
   "cell_type": "markdown",
   "id": "raised-sharing",
   "metadata": {},
   "source": [
    "### Do grid searcha zostały wybrane modele z najbardziej obiecującymi wynikami\n"
   ]
  },
  {
   "cell_type": "markdown",
   "id": "brutal-virtue",
   "metadata": {},
   "source": [
    "## SVC oversampling"
   ]
  },
  {
   "cell_type": "code",
   "execution_count": 9,
   "id": "legal-welding",
   "metadata": {},
   "outputs": [],
   "source": [
    "from sklearn.metrics import f1_score, make_scorer, recall_score\n",
    "f1 = make_scorer(f1_score, average='binary')\n",
    "recall = make_scorer(recall_score, average='binary')"
   ]
  },
  {
   "cell_type": "code",
   "execution_count": 12,
   "id": "smoking-activation",
   "metadata": {},
   "outputs": [
    {
     "ename": "TypeError",
     "evalue": "__init__() got an unexpected keyword argument 'n_jobs'",
     "output_type": "error",
     "traceback": [
      "\u001b[1;31m---------------------------------------------------------------------------\u001b[0m",
      "\u001b[1;31mTypeError\u001b[0m                                 Traceback (most recent call last)",
      "\u001b[1;32m<ipython-input-12-9a3446b33641>\u001b[0m in \u001b[0;36m<module>\u001b[1;34m\u001b[0m\n\u001b[1;32m----> 1\u001b[1;33m \u001b[0mclf_svc_o\u001b[0m \u001b[1;33m=\u001b[0m \u001b[0mSVC\u001b[0m\u001b[1;33m(\u001b[0m\u001b[0mgamma\u001b[0m\u001b[1;33m=\u001b[0m\u001b[1;34m'auto'\u001b[0m\u001b[1;33m,\u001b[0m \u001b[0mclass_weight\u001b[0m\u001b[1;33m=\u001b[0m\u001b[1;34m'balanced'\u001b[0m\u001b[1;33m,\u001b[0m \u001b[0mprobability\u001b[0m\u001b[1;33m=\u001b[0m\u001b[1;32mTrue\u001b[0m\u001b[1;33m,\u001b[0m \u001b[0mn_jobs\u001b[0m \u001b[1;33m=\u001b[0m \u001b[1;33m-\u001b[0m\u001b[1;36m1\u001b[0m\u001b[1;33m)\u001b[0m\u001b[1;33m\u001b[0m\u001b[1;33m\u001b[0m\u001b[0m\n\u001b[0m\u001b[0;32m      2\u001b[0m \u001b[0mclf_svc_o\u001b[0m\u001b[1;33m.\u001b[0m\u001b[0mfit\u001b[0m\u001b[1;33m(\u001b[0m\u001b[0mX_train_over\u001b[0m\u001b[1;33m,\u001b[0m \u001b[0my_train_over\u001b[0m\u001b[1;33m)\u001b[0m\u001b[1;33m\u001b[0m\u001b[1;33m\u001b[0m\u001b[0m\n\u001b[0;32m      3\u001b[0m \u001b[1;33m\u001b[0m\u001b[0m\n\u001b[0;32m      4\u001b[0m \u001b[0my_pred\u001b[0m \u001b[1;33m=\u001b[0m \u001b[0mclf_svc_o\u001b[0m\u001b[1;33m.\u001b[0m\u001b[0mpredict\u001b[0m\u001b[1;33m(\u001b[0m\u001b[0mX_test\u001b[0m\u001b[1;33m)\u001b[0m\u001b[1;33m\u001b[0m\u001b[1;33m\u001b[0m\u001b[0m\n\u001b[0;32m      5\u001b[0m \u001b[1;33m\u001b[0m\u001b[0m\n",
      "\u001b[1;32m~\\anaconda3\\lib\\site-packages\\sklearn\\utils\\validation.py\u001b[0m in \u001b[0;36minner_f\u001b[1;34m(*args, **kwargs)\u001b[0m\n\u001b[0;32m     61\u001b[0m             \u001b[0mextra_args\u001b[0m \u001b[1;33m=\u001b[0m \u001b[0mlen\u001b[0m\u001b[1;33m(\u001b[0m\u001b[0margs\u001b[0m\u001b[1;33m)\u001b[0m \u001b[1;33m-\u001b[0m \u001b[0mlen\u001b[0m\u001b[1;33m(\u001b[0m\u001b[0mall_args\u001b[0m\u001b[1;33m)\u001b[0m\u001b[1;33m\u001b[0m\u001b[1;33m\u001b[0m\u001b[0m\n\u001b[0;32m     62\u001b[0m             \u001b[1;32mif\u001b[0m \u001b[0mextra_args\u001b[0m \u001b[1;33m<=\u001b[0m \u001b[1;36m0\u001b[0m\u001b[1;33m:\u001b[0m\u001b[1;33m\u001b[0m\u001b[1;33m\u001b[0m\u001b[0m\n\u001b[1;32m---> 63\u001b[1;33m                 \u001b[1;32mreturn\u001b[0m \u001b[0mf\u001b[0m\u001b[1;33m(\u001b[0m\u001b[1;33m*\u001b[0m\u001b[0margs\u001b[0m\u001b[1;33m,\u001b[0m \u001b[1;33m**\u001b[0m\u001b[0mkwargs\u001b[0m\u001b[1;33m)\u001b[0m\u001b[1;33m\u001b[0m\u001b[1;33m\u001b[0m\u001b[0m\n\u001b[0m\u001b[0;32m     64\u001b[0m \u001b[1;33m\u001b[0m\u001b[0m\n\u001b[0;32m     65\u001b[0m             \u001b[1;31m# extra_args > 0\u001b[0m\u001b[1;33m\u001b[0m\u001b[1;33m\u001b[0m\u001b[1;33m\u001b[0m\u001b[0m\n",
      "\u001b[1;31mTypeError\u001b[0m: __init__() got an unexpected keyword argument 'n_jobs'"
     ]
    }
   ],
   "source": [
    "clf_svc_o = SVC(gamma='auto', class_weight='balanced', probability=True)\n",
    "clf_svc_o.fit(X_train_over, y_train_over)\n",
    "\n",
    "y_pred = clf_svc_o.predict(X_test)\n",
    "\n",
    "acc_sc = accuracy_score(y_test, y_pred)\n",
    "print('Accuracy score: %.2f' % acc_sc)\n",
    "\n",
    "f1_sc = f1_score(y_test, y_pred, average='binary')\n",
    "print('F1 score: %.2f' % f1_sc)\n",
    "\n",
    "recall_sc = recall_score(y_test, y_pred, average='binary')\n",
    "print('Recall score: %.2f' % recall_sc)\n",
    "\n",
    "plot_confusion_matrix(clf_svc_o, X_test, y_test)  \n",
    "plt.show()"
   ]
  },
  {
   "cell_type": "code",
   "execution_count": 13,
   "id": "significant-effect",
   "metadata": {},
   "outputs": [
    {
     "name": "stdout",
     "output_type": "stream",
     "text": [
      "{'C': 10, 'gamma': 'auto', 'kernel': 'rbf'}\n",
      "0.927123279874621\n",
      "              precision    recall  f1-score   support\n",
      "\n",
      "           0       0.96      0.89      0.92     10965\n",
      "           1       0.44      0.68      0.54      1392\n",
      "\n",
      "    accuracy                           0.87     12357\n",
      "   macro avg       0.70      0.79      0.73     12357\n",
      "weighted avg       0.90      0.87      0.88     12357\n",
      "\n"
     ]
    },
    {
     "data": {
      "image/png": "[encoded data removed]",
      "text/plain": [
       "<Figure size 432x288 with 2 Axes>"
      ]
     },
     "metadata": {
      "needs_background": "light"
     },
     "output_type": "display_data"
    }
   ],
   "source": [
    "from sklearn.model_selection import GridSearchCV\n",
    "\n",
    "parameters = {'C': [1, 10], 'kernel': ('linear', 'rbf'), 'gamma':('scale', 'auto')}\n",
    "svc = SVC()\n",
    "clf = GridSearchCV(estimator=svc, param_grid=parameters, scoring=f1, n_jobs = -1)\n",
    "clf.fit(X_train_over, y_train_over)\n",
    "\n",
    "print(clf.best_params_)\n",
    "print(clf.best_score_)\n",
    "\n",
    "best_clf_svc = clf.best_estimator_\n",
    "grid_predictions = best_clf_svc.predict(X_test)   \n",
    "print(classification_report(y_test, grid_predictions))\n",
    "\n",
    "plot_confusion_matrix(best_clf_svc, X_test, y_test)\n",
    "plt.show()"
   ]
  },
  {
   "cell_type": "markdown",
   "id": "bronze-dress",
   "metadata": {},
   "source": [
    "### Decision Tree oversampling"
   ]
  },
  {
   "cell_type": "code",
   "execution_count": null,
   "id": "alert-neighborhood",
   "metadata": {},
   "outputs": [],
   "source": [
    "from sklearn.tree import DecisionTreeClassifier\n",
    "\n",
    "clf_dt_o = DecisionTreeClassifier(random_state=0, criterion='gini')\n",
    "clf_dt_o.fit(X_train_over, y_train_over)\n",
    "\n",
    "y_pred = clf_dt_o.predict(X_test)\n",
    "\n",
    "acc_sc = accuracy_score(y_test, y_pred)\n",
    "print('Accuracy score: %.2f' % acc_sc)\n",
    "\n",
    "f1_sc = f1_score(y_test, y_pred, average='binary')\n",
    "print('F1 score: %.2f' % f1_sc)\n",
    "\n",
    "recall_sc = recall_score(y_test, y_pred, average='binary')\n",
    "print('Recall score: %.2f' % recall_sc)\n",
    "\n",
    "plot_confusion_matrix(clf_dt_o, X_test, y_test)  \n",
    "plt.show()"
   ]
  },
  {
   "cell_type": "code",
   "execution_count": null,
   "id": "hundred-fence",
   "metadata": {},
   "outputs": [],
   "source": [
    "parameters = {'criterion': ('gini', 'entropy'), 'splitter': ('best', 'random')}\n",
    "dt = DecisionTreeClassifier()\n",
    "clf = GridSearchCV(estimator=dt, param_grid=parameters, scoring=f1, n_jobs = -1)\n",
    "clf.fit(X_train_over, y_train_over)\n",
    "\n",
    "print(clf.best_params_)\n",
    "print(clf.best_score_)\n",
    "\n",
    "best_clf_df = clf.best_estimator_\n",
    "grid_predictions = best_clf_df.predict(X_test)    \n",
    "print(classification_report(y_test, grid_predictions))\n",
    "\n",
    "plot_confusion_matrix(best_clf_df, X_test, y_test)\n",
    "plt.show()"
   ]
  },
  {
   "cell_type": "markdown",
   "id": "friendly-synthesis",
   "metadata": {},
   "source": [
    "### Logistic Regression"
   ]
  },
  {
   "cell_type": "code",
   "execution_count": null,
   "id": "noble-protein",
   "metadata": {},
   "outputs": [],
   "source": [
    "from sklearn.linear_model import LogisticRegression\n",
    "\n",
    "clf_lr_o = LogisticRegression(random_state=0)\n",
    "clf_lr_o.fit(X_train_over, y_train_over)\n",
    "\n",
    "y_pred = clf_lr_o.predict(X_test)\n",
    "\n",
    "acc_sc = accuracy_score(y_test, y_pred)\n",
    "print('Accuracy score: %.2f' % acc_sc)\n",
    "\n",
    "f1_sc = f1_score(y_test, y_pred, average='binary')\n",
    "print('F1 score: %.2f' % f1_sc)\n",
    "\n",
    "recall_sc = recall_score(y_test, y_pred, average='binary')\n",
    "print('Recall score: %.2f' % recall_sc)\n",
    "\n",
    "plot_confusion_matrix(clf_lr_o, X_test, y_test)  \n",
    "plt.show()"
   ]
  },
  {
   "cell_type": "code",
   "execution_count": null,
   "id": "robust-terrain",
   "metadata": {},
   "outputs": [],
   "source": [
    "parameters = {'penalty': ('l2', 'none'), 'C': [1, 10]}\n",
    "lr = LogisticRegression()\n",
    "clf = GridSearchCV(estimator=lr, param_grid=parameters, scoring='f1', n_jobs = -1)\n",
    "clf.fit(X_train_over, y_train_over)\n",
    "\n",
    "print(clf.best_params_)\n",
    "print(clf.best_score_)\n",
    "\n",
    "best_clf_lr = clf.best_estimator_\n",
    "grid_predictions = best_clf_lr.predict(X_test)    \n",
    "print(classification_report(y_test, grid_predictions))\n",
    "\n",
    "plot_confusion_matrix(best_clf_lr, X_test, y_test)\n",
    "plt.show()"
   ]
  },
  {
   "cell_type": "code",
   "execution_count": null,
   "id": "outside-pantyhose",
   "metadata": {},
   "outputs": [],
   "source": [
    "from sklearn.ensemble import RandomForestClassifier\n",
    "\n",
    "clf_rand_forest = RandomForestClassifier(random_state=0)\n",
    "clf_rand_forest.fit(X_train_under, y_train_under)\n",
    "\n",
    "y_pred = clf_rand_forest.predict(X_test)\n",
    "\n",
    "acc_sc = accuracy_score(y_test, y_pred)\n",
    "print('Accuracy score: %.2f' % acc_sc)\n",
    "\n",
    "f1_sc = f1_score(y_test, y_pred, average='binary')\n",
    "print('F1 score: %.2f' % f1_sc)\n",
    "\n",
    "recall_sc = recall_score(y_test, y_pred, average='binary')\n",
    "print('Recall score: %.2f' % recall_sc)\n",
    "\n",
    "plot_confusion_matrix(clf_rand_forest, X_test, y_test)  \n",
    "plt.show()"
   ]
  },
  {
   "cell_type": "code",
   "execution_count": null,
   "id": "eligible-trout",
   "metadata": {},
   "outputs": [],
   "source": [
    "parameters = {'criterion': ('gini', 'entropy'), 'n_estimators': [50, 100, 150] }\n",
    "rf = RandomForestClassifier()\n",
    "clf = GridSearchCV(estimator=rf, param_grid=parameters, scoring=f1, n_jobs = -1)\n",
    "clf.fit(X_train_under, y_train_under)\n",
    "\n",
    "print(clf.best_params_)\n",
    "print(clf.best_score_)\n",
    "\n",
    "best_clf_rf = clf.best_estimator_\n",
    "grid_predictions = best_clf_rf.predict(X_test)    \n",
    "print(classification_report(y_test, grid_predictions))\n",
    "\n",
    "plot_confusion_matrix(best_clf_rf, X_test, y_test)  \n",
    "plt.show()"
   ]
  },
  {
   "cell_type": "code",
   "execution_count": null,
   "id": "altered-there",
   "metadata": {},
   "outputs": [],
   "source": [
    "clf = GridSearchCV(estimator=rf, param_grid=parameters, scoring=recall, n_jobs = -1)\n",
    "clf.fit(X_train_over, y_train_over)\n",
    "\n",
    "print(clf.best_params_)\n",
    "print(clf.best_score_)\n",
    "\n",
    "best_clf_rf2 = clf.best_estimator_\n",
    "grid_predictions = best_clf_rf2.predict(X_test)    \n",
    "print(classification_report(y_test, grid_predictions))\n",
    "\n",
    "plot_confusion_matrix(best_clf_rf2, X_test, y_test)  \n",
    "plt.show()"
   ]
  },
  {
   "cell_type": "code",
   "execution_count": null,
   "id": "agreed-dating",
   "metadata": {},
   "outputs": [],
   "source": [
    "from sklearn.ensemble import VotingClassifier\n",
    "\n",
    "eclf_over_soft = VotingClassifier(estimators=[\n",
    "    ('svc' ,clf_svc_o), ('dt' ,clf_dt_o), ('lr' , clf_lr_o)], voting='soft')\n",
    "\n",
    "eclf_over_soft.fit(X_train_over, y_train_over)\n",
    "\n",
    "y_pred = eclf_over_soft.predict(X_test)\n",
    "\n",
    "acc_sc = accuracy_score(y_test, y_pred)\n",
    "print('Accuracy score: %.2f' % acc_sc)\n",
    "\n",
    "f1_sc = f1_score(y_test, y_pred, average='binary')\n",
    "print('F1 score: %.2f' % f1_sc)\n",
    "\n",
    "recall_sc = recall_score(y_test, y_pred, average='binary')\n",
    "print('Recall score: %.2f' % recall_sc)\n",
    "\n",
    "plot_confusion_matrix(eclf_over_soft, X_test, y_test)  \n",
    "plt.show()"
   ]
  },
  {
   "cell_type": "code",
   "execution_count": null,
   "id": "removable-variable",
   "metadata": {},
   "outputs": [],
   "source": [
    "clf = VotingClassifier(estimators=[\n",
    "    ('svc' , SVC()), ('dt' ,DecisionTreeClassifier()), ('lr' , LogisticRegression())], voting='soft')\n",
    "parameters = {'dt__criterion': ('gini', 'entropy'), \n",
    "              'lr__penalty': ('l2', 'none'), 'lr__C': [1, 10],\n",
    "              'svc__C': [1, 10], 'svc__gamma':('scale', 'auto')\n",
    "             }\n",
    "clf = GridSearchCV(estimator=clf, param_grid=parameters, scoring=f1, n_jobs = -1)\n",
    "clf.fit(X_train_over, y_train_over)\n",
    "\n",
    "print(clf.best_params_)\n",
    "print(clf.best_score_)\n",
    "\n",
    "best_clf_vc = clf.best_estimator_\n",
    "grid_predictions = best_clf_vc.predict(X_test)    \n",
    "print(classification_report(y_test, grid_predictions))\n",
    "\n",
    "plot_confusion_matrix(best_clf_vc, X_test, y_test)  \n",
    "plt.show()"
   ]
  }
 ],
 "metadata": {
  "kernelspec": {
   "display_name": "Python 3",
   "language": "python",
   "name": "python3"
  },
  "language_info": {
   "codemirror_mode": {
    "name": "ipython",
    "version": 3
   },
   "file_extension": ".py",
   "mimetype": "text/x-python",
   "name": "python",
   "nbconvert_exporter": "python",
   "pygments_lexer": "ipython3",
   "version": "3.8.8"
  }
 },
 "nbformat": 4,
 "nbformat_minor": 5
}
